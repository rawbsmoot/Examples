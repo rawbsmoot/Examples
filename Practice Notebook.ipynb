{
 "cells": [
  {
   "cell_type": "code",
   "execution_count": 3,
   "metadata": {
    "collapsed": false
   },
   "outputs": [],
   "source": [
    "# digit sum exercise\n",
    "\n",
    "def digit_sum(n):\n",
    "    num_list = [] \n",
    "    for number in str(n): #turn it into string\n",
    "        number = int(number) #then back into number\n",
    "        num_list.append(number) #add all of them to the empty list\n",
    "    n = sum(num_list) #sum up all numbers in list\n",
    "    return n \n",
    "        "
   ]
  },
  {
   "cell_type": "code",
   "execution_count": 1,
   "metadata": {
    "collapsed": true
   },
   "outputs": [],
   "source": [
    "# factorial exercise\n",
    "\n",
    "def factorial(x):\n",
    "    if x == 1:\n",
    "        return 1\n",
    "    else:\n",
    "        return x * factorial(x-1)"
   ]
  },
  {
   "cell_type": "code",
   "execution_count": 2,
   "metadata": {
    "collapsed": false
   },
   "outputs": [],
   "source": [
    "# is prime exercise\n",
    "\n",
    "def is_prime(x):\n",
    "    if x >= 2:\n",
    "        for i in range(2, x-1):\n",
    "            if x % i == 0:\n",
    "                return False\n",
    "        else:\n",
    "            return True\n",
    "    else:\n",
    "        return False "
   ]
  },
  {
   "cell_type": "code",
   "execution_count": 36,
   "metadata": {
    "collapsed": false
   },
   "outputs": [
    {
     "name": "stdout",
     "output_type": "stream",
     "text": [
      "!nohtyP\n",
      "!nohtyP\n",
      "!nohtyP\n"
     ]
    }
   ],
   "source": [
    "# reverse a string exercise (3 different methods--last one is fastest)\n",
    "\n",
    "#1 \n",
    "def reverse(text):\n",
    "    new_string = ''\n",
    "    index = len(text)\n",
    "    while index:\n",
    "        index -= 1 \n",
    "        new_string += text[index] \n",
    "    return new_string\n",
    "print reverse('Python!')\n",
    "\n",
    "#2\n",
    "def reverse(string):\n",
    "    return ''.join(reversed(string))\n",
    "\n",
    "print reverse('Python!')\n",
    "\n",
    "\n",
    "#3\n",
    "reverse = 'Python!'\n",
    "print reverse[::-1]"
   ]
  },
  {
   "cell_type": "code",
   "execution_count": 52,
   "metadata": {
    "collapsed": false
   },
   "outputs": [],
   "source": [
    "# anti_vowel exercise\n",
    "\n",
    "# solution 1\n",
    "def anti_vowel(text):\n",
    "    new_string = ''\n",
    "    vowels = ['a', 'e', 'i', 'o', 'u']\n",
    "    for x in text.lower():\n",
    "        if x in vowels:\n",
    "            new_string = new_string.replace(x, \"\")\n",
    "    return new_string\n",
    "    \n",
    "# solution 2 (much faster)    \n",
    "import re\n",
    "\n",
    "def anti_wovel(s):\n",
    "    result = re.sub(r'[AEIOU]', '', s, flags=re.IGNORECASE)\n",
    "    return result\n",
    "anti_wovel('howdy doo dee')    "
   ]
  },
  {
   "cell_type": "code",
   "execution_count": 2,
   "metadata": {
    "collapsed": false
   },
   "outputs": [
    {
     "data": {
      "text/plain": [
       "20"
      ]
     },
     "execution_count": 2,
     "metadata": {},
     "output_type": "execute_result"
    }
   ],
   "source": [
    "# scrabble exercise\n",
    "\n",
    "scores = {\"a\": 1, \"c\": 3, \"b\": 3, \"e\": 1, \"d\": 2, \"g\": 2, \n",
    "         \"f\": 4, \"i\": 1, \"h\": 4, \"k\": 5, \"j\": 8, \"m\": 3, \n",
    "         \"l\": 1, \"o\": 1, \"n\": 1, \"q\": 10, \"p\": 3, \"s\": 1, \n",
    "         \"r\": 1, \"u\": 1, \"t\": 1, \"w\": 4, \"v\": 4, \"y\": 4, \n",
    "         \"x\": 8, \"z\": 10}\n",
    "\n",
    "def scrabble_score(word):\n",
    "    score = 0\n",
    "    for i in word.lower():\n",
    "        score = score + scores[i]\n",
    "    return score\n",
    "\n",
    "scrabble_score('zippers')"
   ]
  },
  {
   "cell_type": "code",
   "execution_count": 2,
   "metadata": {
    "collapsed": false
   },
   "outputs": [
    {
     "data": {
      "text/plain": [
       "'pee pee *** poop'"
      ]
     },
     "execution_count": 2,
     "metadata": {},
     "output_type": "execute_result"
    }
   ],
   "source": [
    "# censor exercise\n",
    "\n",
    "def censor(text, word):\n",
    "    censored = '*' * len(word)\n",
    "    wordlist = text.split()\n",
    "    new_words_list = []\n",
    "    for item in wordlist:\n",
    "        if item == word:\n",
    "            new_words_list.append(censored)\n",
    "        else:\n",
    "            new_words_list.append(item)\n",
    "\n",
    "    return \" \".join(new_words_list)\n",
    "        \n",
    "censor('pee pee poo poop', 'poo')"
   ]
  },
  {
   "cell_type": "code",
   "execution_count": 12,
   "metadata": {
    "collapsed": false
   },
   "outputs": [
    {
     "data": {
      "text/plain": [
       "'pee pee poo'"
      ]
     },
     "execution_count": 12,
     "metadata": {},
     "output_type": "execute_result"
    }
   ],
   "source": [
    "def censor(text,word):\n",
    "    split_text = text.split()\n",
    "    length = len(word)\n",
    "    for item in split_text:\n",
    "        if item == word:\n",
    "            item = (\"*\" * length)\n",
    "        else:\n",
    "            item = item\n",
    "    return \" \".join(split_text)\n",
    "censor('pee pee poo', 'poo')"
   ]
  },
  {
   "cell_type": "code",
   "execution_count": 5,
   "metadata": {
    "collapsed": false
   },
   "outputs": [
    {
     "name": "stdout",
     "output_type": "stream",
     "text": [
      "How are you today, good sir?\n",
      "How are you today, good sir?\n"
     ]
    }
   ],
   "source": [
    "s = raw_input()\n",
    "print s"
   ]
  },
  {
   "cell_type": "code",
   "execution_count": 6,
   "metadata": {
    "collapsed": false
   },
   "outputs": [
    {
     "name": "stdout",
     "output_type": "stream",
     "text": [
      "8\n"
     ]
    }
   ],
   "source": [
    "import sys\n",
    "\n",
    "N = int(raw_input().strip())"
   ]
  },
  {
   "cell_type": "code",
   "execution_count": 86,
   "metadata": {
    "collapsed": false
   },
   "outputs": [],
   "source": [
    "def find_outlier3(integers):\n",
    "    even_list = [i for i in integers if i%2==0]\n",
    "    odd_list = [i for i in integers if i not in even_list]\n",
    "    print 'even list is:',even_list\n",
    "    print 'odd_list is:', odd_list\n",
    "    return min(integers)"
   ]
  },
  {
   "cell_type": "code",
   "execution_count": 87,
   "metadata": {
    "collapsed": false
   },
   "outputs": [
    {
     "name": "stdout",
     "output_type": "stream",
     "text": [
      "even list is: [2, 44, 2]\n",
      "odd_list is: [11, 25, 5, 9, 11]\n"
     ]
    },
    {
     "data": {
      "text/plain": [
       "2"
      ]
     },
     "execution_count": 87,
     "metadata": {},
     "output_type": "execute_result"
    }
   ],
   "source": [
    "find_outlier3([2,11,25,44,5,2,9,11])"
   ]
  },
  {
   "cell_type": "code",
   "execution_count": 5,
   "metadata": {
    "collapsed": false
   },
   "outputs": [
    {
     "data": {
      "text/plain": [
       "2"
      ]
     },
     "execution_count": 5,
     "metadata": {},
     "output_type": "execute_result"
    }
   ],
   "source": [
    "# counting items in a sequence.\n",
    "\n",
    "def count(sequence, item):\n",
    "    found = 0\n",
    "    for i in sequence:\n",
    "        if i == item:\n",
    "            found += 1\n",
    "    return found\n",
    "        \n",
    "        \n",
    "count([7,8,9,2,1,1], 1)   "
   ]
  },
  {
   "cell_type": "code",
   "execution_count": 43,
   "metadata": {
    "collapsed": false
   },
   "outputs": [
    {
     "data": {
      "text/plain": [
       "[2, 4, 6, 8]"
      ]
     },
     "execution_count": 43,
     "metadata": {},
     "output_type": "execute_result"
    }
   ],
   "source": [
    "# remove particular elements from a list.\n",
    "\n",
    "def purify(x):\n",
    "    newl=[]\n",
    "    for i in x:\n",
    "        if i % 2 == 0:\n",
    "            newl.append(i)\n",
    "    return newl\n",
    "purify([1, 2, 3, 4, 5, 6, 7, 8,])"
   ]
  },
  {
   "cell_type": "code",
   "execution_count": 5,
   "metadata": {
    "collapsed": false
   },
   "outputs": [
    {
     "data": {
      "text/plain": [
       "144"
      ]
     },
     "execution_count": 5,
     "metadata": {},
     "output_type": "execute_result"
    }
   ],
   "source": [
    "# multiply numbers in a list.\n",
    "\n",
    "def product(x): \n",
    "    start = 1\n",
    "    for i in x:\n",
    "        start *= i\n",
    "    return start \n",
    "    \n",
    "product([12,3,4])"
   ]
  },
  {
   "cell_type": "code",
   "execution_count": 29,
   "metadata": {
    "collapsed": false
   },
   "outputs": [
    {
     "data": {
      "text/plain": [
       "[1, 2]"
      ]
     },
     "execution_count": 29,
     "metadata": {},
     "output_type": "execute_result"
    }
   ],
   "source": [
    "# removing duplicates\n",
    "\n",
    "def remove_dupes(x):\n",
    "    newl = []\n",
    "    for i in x:\n",
    "        if i not in newl:\n",
    "            newl.append(i)\n",
    "    return newl\n",
    "    \n",
    "remove_dupes([1,1,2,2,1])"
   ]
  },
  {
   "cell_type": "code",
   "execution_count": 30,
   "metadata": {
    "collapsed": false
   },
   "outputs": [
    {
     "data": {
      "text/plain": [
       "4.5"
      ]
     },
     "execution_count": 30,
     "metadata": {},
     "output_type": "execute_result"
    }
   ],
   "source": [
    "# find the median\n",
    "\n",
    "def median(x):\n",
    "    x = sorted(x)\n",
    "    how_many = len(x)\n",
    "    middle = how_many / 2\n",
    "    if how_many % 2 == 0:\n",
    "        middle_avg = (x[middle] + x[middle-1]) / (2.0)\n",
    "        return middle_avg\n",
    "\n",
    "    \n",
    "    return x[middle]\n",
    "    \n",
    "    \n",
    "    \n",
    "median([0, 1, 2, 45, 4, 5, 6, 7])"
   ]
  },
  {
   "cell_type": "code",
   "execution_count": 31,
   "metadata": {
    "collapsed": false
   },
   "outputs": [
    {
     "name": "stdout",
     "output_type": "stream",
     "text": [
      "a apple\n",
      "c carrot\n",
      "b banana\n"
     ]
    }
   ],
   "source": [
    "# dictionary indexing\n",
    "\n",
    "my_dict = {'a': 'apple', 'b': 'banana', 'c': 'carrot'}\n",
    "\n",
    "for i in my_dict:\n",
    "    print i, my_dict[i]"
   ]
  },
  {
   "cell_type": "code",
   "execution_count": 32,
   "metadata": {
    "collapsed": false
   },
   "outputs": [
    {
     "data": {
      "text/plain": [
       "[6]"
      ]
     },
     "execution_count": 32,
     "metadata": {},
     "output_type": "execute_result"
    }
   ],
   "source": [
    "doubles_by_3 = [x*2 for x in range(1,6) if (x*2) % 3 == 0]\n",
    "doubles_by_3"
   ]
  },
  {
   "cell_type": "code",
   "execution_count": 33,
   "metadata": {
    "collapsed": false
   },
   "outputs": [
    {
     "name": "stdout",
     "output_type": "stream",
     "text": [
      "Sum =  48\n",
      "Average =  6.0\n",
      "Variance =  10.0\n",
      "Standard Deviation =  3.16227766017\n"
     ]
    }
   ],
   "source": [
    "# calculate sum, average, variance, standard deviation with functions\n",
    "\n",
    "grades = [6, 7, 0, 9, 9, 9, 6, 2]\n",
    "\n",
    "def grades_sum(x):\n",
    "    total = 0\n",
    "    for i in x:\n",
    "        total = i + total\n",
    "    return total\n",
    "\n",
    "print \"Sum = \", grades_sum(grades)\n",
    "\n",
    "def grades_average(x):\n",
    "    my_sum = grades_sum(grades)\n",
    "    avg = float(my_sum) / len(grades)\n",
    "    \n",
    "    \n",
    "    return avg\n",
    "print \"Average = \", grades_average(grades)\n",
    "\n",
    "def grades_variance(scores):\n",
    "    average = grades_average(scores)\n",
    "    variance = 0 \n",
    "    for i in scores:\n",
    "        variance += ((average - i) ** 2.0) \n",
    "        new_variance = variance/len(scores)\n",
    "    return new_variance\n",
    "\n",
    "print \"Variance = \", grades_variance(grades)\n",
    "        \n",
    "def grades_std_deviation(variance):\n",
    "    return variance**0.5\n",
    "variance = grades_variance(grades)\n",
    "\n",
    "print \"Standard Deviation = \", grades_std_deviation(variance)"
   ]
  },
  {
   "cell_type": "code",
   "execution_count": 34,
   "metadata": {
    "collapsed": false
   },
   "outputs": [
    {
     "name": "stdout",
     "output_type": "stream",
     "text": [
      "[36, 49, 64]\n"
     ]
    }
   ],
   "source": [
    "# filter a list using lambda\n",
    "\n",
    "squares = [i**2 for i in range(1,11)]\n",
    "print filter(lambda x: x <=70 and x >= 30, squares)"
   ]
  },
  {
   "cell_type": "code",
   "execution_count": 35,
   "metadata": {
    "collapsed": false
   },
   "outputs": [
    {
     "data": {
      "text/plain": [
       "[3, 5, 6, 9, 10, 12, 15]"
      ]
     },
     "execution_count": 35,
     "metadata": {},
     "output_type": "execute_result"
    }
   ],
   "source": [
    "# list comprehension practice\n",
    "\n",
    "threes_and_fives = [i for i in range(1, 16) if i % 3 == 0 or i % 5 == 0]\n",
    "threes_and_fives"
   ]
  },
  {
   "cell_type": "code",
   "execution_count": 36,
   "metadata": {
    "collapsed": false
   },
   "outputs": [
    {
     "data": {
      "text/plain": [
       "'I am another secret message!'"
      ]
     },
     "execution_count": 36,
     "metadata": {},
     "output_type": "execute_result"
    }
   ],
   "source": [
    "garbled = \"IXXX aXXmX aXXXnXoXXXXXtXhXeXXXXrX sXXXXeXcXXXrXeXt mXXeXsXXXsXaXXXXXXgXeX!XX\"\n",
    "message = filter(lambda i: i != 'X', garbled)\n",
    "message"
   ]
  },
  {
   "cell_type": "code",
   "execution_count": 37,
   "metadata": {
    "collapsed": false
   },
   "outputs": [
    {
     "name": "stdout",
     "output_type": "stream",
     "text": [
      "Gil\n",
      "4\n",
      "None Jeffrey\n",
      "2\n",
      "None Bruce\n",
      "1\n",
      "None Chad\n",
      "7\n",
      "None good\n"
     ]
    }
   ],
   "source": [
    "# Basic class example\n",
    "\n",
    "class Animal(object):\n",
    "    \"\"\"Makes cute animals.\"\"\"\n",
    "    is_alive = True\n",
    "    health = 'good'\n",
    "    def __init__(self, name, age):\n",
    "        self.name = name\n",
    "        self.age = age\n",
    "    def description(self):\n",
    "        print self.name\n",
    "        print self.age\n",
    "        \n",
    "zebra = Animal(\"Jeffrey\", 2)\n",
    "giraffe = Animal(\"Bruce\", 1)\n",
    "panda = Animal(\"Chad\", 7)\n",
    "hippo = Animal('Gil', 4)\n",
    "\n",
    "print hippo.description(), zebra.description(), giraffe.description(), panda.description(), hippo.health"
   ]
  },
  {
   "cell_type": "code",
   "execution_count": 38,
   "metadata": {
    "collapsed": false
   },
   "outputs": [
    {
     "name": "stdout",
     "output_type": "stream",
     "text": [
      "200.0\n"
     ]
    }
   ],
   "source": [
    "class Employee(object):\n",
    "    \n",
    "    def __init__(self, employee_name):\n",
    "        self.employee_name = employee_name\n",
    "\n",
    "    def calculate_wage(self, hours):\n",
    "        self.hours = hours\n",
    "        return hours * 20.00\n",
    "\n",
    "    \n",
    "    \n",
    "class PartTimeEmployee(Employee):\n",
    "    \n",
    "    def full_time_wage(self, hours):\n",
    "        return super(PartTimeEmployee, self).calculate_wage(hours)\n",
    "    \n",
    "    def calculate_wage(self, hours):\n",
    "        self.hours = hours\n",
    "        return hours * 12.00\n",
    "\n",
    "    \n",
    "    \n",
    "milton = PartTimeEmployee('Milton')\n",
    "print milton.full_time_wage(10)"
   ]
  },
  {
   "cell_type": "code",
   "execution_count": 39,
   "metadata": {
    "collapsed": false
   },
   "outputs": [
    {
     "data": {
      "text/plain": [
       "'455636460793'"
      ]
     },
     "execution_count": 39,
     "metadata": {},
     "output_type": "execute_result"
    }
   ],
   "source": [
    "l = '4556364607935616'\n",
    "l[:-4]"
   ]
  },
  {
   "cell_type": "code",
   "execution_count": 40,
   "metadata": {
    "collapsed": false
   },
   "outputs": [],
   "source": [
    "# credit card mask function\n",
    "\n",
    "def maskify(cc):\n",
    "    mask = []\n",
    "    for i in cc[:-4]:\n",
    "        i = '#'\n",
    "        mask.append(i)\n",
    "    return ''.join(mask) + cc[-4:]\n",
    "        "
   ]
  },
  {
   "cell_type": "code",
   "execution_count": 41,
   "metadata": {
    "collapsed": false
   },
   "outputs": [
    {
     "data": {
      "text/plain": [
       "'######2840'"
      ]
     },
     "execution_count": 41,
     "metadata": {},
     "output_type": "execute_result"
    }
   ],
   "source": [
    "maskify('3656012840')"
   ]
  },
  {
   "cell_type": "code",
   "execution_count": 42,
   "metadata": {
    "collapsed": false
   },
   "outputs": [],
   "source": [
    "# maximum length difference (codewars)\n",
    "\n",
    "def mxdiflg(a1, a2):\n",
    "    \n",
    "    if len(a1) == 0:\n",
    "        return -1\n",
    "    if len(a2) == 0:\n",
    "        return -1\n",
    "    a1_max, a1_min = max(a1, key=len), min(a1, key=len)\n",
    "    a2_max, a2_min = max(a2, key=len), min(a2, key=len)\n",
    "    \n",
    "    difa1 = abs(len(a1_max) - len(a2_min))\n",
    "    difa2 = abs(len(a2_max) - len(a1_min))\n",
    "    if difa1 > difa2:\n",
    "        return difa1\n",
    "    else:\n",
    "        return difa2\n"
   ]
  },
  {
   "cell_type": "code",
   "execution_count": 43,
   "metadata": {
    "collapsed": false
   },
   "outputs": [],
   "source": [
    "a2 = [\"hoqq\", \"bbdsfsdllkw\", \"oox\", \"ejjuyyy\", \"plmiis\", \"xxxzgpsssa\", \"xxwwkktt\", \"znnnnfqknaz\", \"qqquuhii\", \"dvvvwz\"]\n",
    "a1 = [\"cccooommsdfasdfaaqqoxii\", \"gggqaffhhh\", \"tttoowwwmdfsmww\", 'sdfsdf']\n",
    "# mxdiflg(a1,a2)\n",
    "# len(min(a2, key=len))\n",
    "ff, fg = max(a1, key=len), min(a1, key=len)\n"
   ]
  },
  {
   "cell_type": "code",
   "execution_count": 44,
   "metadata": {
    "collapsed": false
   },
   "outputs": [
    {
     "data": {
      "text/plain": [
       "13"
      ]
     },
     "execution_count": 44,
     "metadata": {},
     "output_type": "execute_result"
    }
   ],
   "source": [
    "s1 = [\"hoqq\", \"bbllkw\", \"oox\", \"ejjuyyy\", \"plmiis\", \"xxxzgpsssa\", \"xxwwkktt\", \"znnnnfqknaz\", \"qqquuhii\", \"dvvvwz\"]\n",
    "s2 = [\"cccooommaaqqoxii\", \"gggqaffhhh\", \"tttoowwwmmww\"]\n",
    "mxdiflg(s1, s2)"
   ]
  },
  {
   "cell_type": "code",
   "execution_count": 45,
   "metadata": {
    "collapsed": false
   },
   "outputs": [],
   "source": [
    "def reverse_words(str):\n",
    "    new = []\n",
    "    long_word = str.split(' ')\n",
    "    for i in long_word:\n",
    "        new.append(i[::-1])\n",
    "  \n",
    "    return ' '.join(new)\n",
    "        \n",
    "  "
   ]
  },
  {
   "cell_type": "code",
   "execution_count": 46,
   "metadata": {
    "collapsed": false
   },
   "outputs": [
    {
     "data": {
      "text/plain": [
       "'elbuod decaps  sdrow'"
      ]
     },
     "execution_count": 46,
     "metadata": {},
     "output_type": "execute_result"
    }
   ],
   "source": [
    "reverse_words(\"double spaced  words\")"
   ]
  },
  {
   "cell_type": "code",
   "execution_count": 47,
   "metadata": {
    "collapsed": false
   },
   "outputs": [],
   "source": [
    "def remove_char(s):\n",
    "    s = s[1:-1]\n",
    "    return s\n"
   ]
  },
  {
   "cell_type": "code",
   "execution_count": 48,
   "metadata": {
    "collapsed": false
   },
   "outputs": [
    {
     "data": {
      "text/plain": [
       "'ouble spaced word'"
      ]
     },
     "execution_count": 48,
     "metadata": {},
     "output_type": "execute_result"
    }
   ],
   "source": [
    "remove_char(\"double spaced words\")"
   ]
  },
  {
   "cell_type": "code",
   "execution_count": 49,
   "metadata": {
    "collapsed": false
   },
   "outputs": [],
   "source": [
    "def double_char(s):\n",
    "    doubled = []\n",
    "    [doubled.append(i + i) for i in s]\n",
    "        \n",
    "    return ''.join(doubled)"
   ]
  },
  {
   "cell_type": "code",
   "execution_count": 50,
   "metadata": {
    "collapsed": false
   },
   "outputs": [
    {
     "data": {
      "text/plain": [
       "'SSttrriinngg'"
      ]
     },
     "execution_count": 50,
     "metadata": {},
     "output_type": "execute_result"
    }
   ],
   "source": [
    "double_char(\"String\")"
   ]
  },
  {
   "cell_type": "code",
   "execution_count": 51,
   "metadata": {
    "collapsed": false
   },
   "outputs": [],
   "source": [
    "def find_smallest_int(arr):\n",
    "    arr.sort()\n",
    "    return arr[0], arr[-1]\n",
    "        "
   ]
  },
  {
   "cell_type": "code",
   "execution_count": 52,
   "metadata": {
    "collapsed": false
   },
   "outputs": [
    {
     "data": {
      "text/plain": [
       "(-345, 100)"
      ]
     },
     "execution_count": 52,
     "metadata": {},
     "output_type": "execute_result"
    }
   ],
   "source": [
    "find_smallest_int([34, -345, -1, 100])"
   ]
  },
  {
   "cell_type": "code",
   "execution_count": 53,
   "metadata": {
    "collapsed": true
   },
   "outputs": [],
   "source": [
    "def min_max(x):\n",
    "    x.sort()\n",
    "    xs = [x[0],x[-1]]\n",
    "    return xs"
   ]
  },
  {
   "cell_type": "code",
   "execution_count": 54,
   "metadata": {
    "collapsed": false
   },
   "outputs": [
    {
     "data": {
      "text/plain": [
       "[5, 2334454]"
      ]
     },
     "execution_count": 54,
     "metadata": {},
     "output_type": "execute_result"
    }
   ],
   "source": [
    "min_max([2334454,5])"
   ]
  },
  {
   "cell_type": "code",
   "execution_count": 55,
   "metadata": {
    "collapsed": true
   },
   "outputs": [],
   "source": [
    "def arithmetic(a, b, operator):\n",
    "    if operator == 'add':\n",
    "        return a + b\n",
    "    elif operator == 'subtract':\n",
    "        return a - b\n",
    "    elif operator == 'multiply':\n",
    "        return (a * b)\n",
    "    elif operator == 'divide':\n",
    "        return (a / b)\n",
    "    else:\n",
    "        return None"
   ]
  },
  {
   "cell_type": "code",
   "execution_count": 56,
   "metadata": {
    "collapsed": false
   },
   "outputs": [
    {
     "data": {
      "text/plain": [
       "4.0"
      ]
     },
     "execution_count": 56,
     "metadata": {},
     "output_type": "execute_result"
    }
   ],
   "source": [
    "arithmetic(8.0, 2, \"divide\")"
   ]
  },
  {
   "cell_type": "code",
   "execution_count": 57,
   "metadata": {
    "collapsed": false
   },
   "outputs": [],
   "source": [
    "# find the int that appears an odd number of times\n",
    "def find_it(seq):\n",
    "    r = dict((i, seq.count(i)) for i in seq)\n",
    "    for i, g in r.items():\n",
    "        if g % 2 != 0:\n",
    "            print i\n",
    "            \n",
    "    \n"
   ]
  },
  {
   "cell_type": "code",
   "execution_count": 58,
   "metadata": {
    "collapsed": false
   },
   "outputs": [
    {
     "name": "stdout",
     "output_type": "stream",
     "text": [
      "5\n"
     ]
    }
   ],
   "source": [
    "find_it([20,1,-1,2,-2,3,3,5,5,1,2,4,20,4,-1,-2,5])"
   ]
  },
  {
   "cell_type": "code",
   "execution_count": 59,
   "metadata": {
    "collapsed": false
   },
   "outputs": [],
   "source": [
    "# first non-repeating letter\n",
    "\n",
    "def first_non_repeating_letter(string):\n",
    "   \n",
    "    new_dict = dict((i, string.count(i)) for i in string)    \n",
    "    for k, v in new_dict.items():\n",
    "        if v == 1:\n",
    "            return k\n",
    "            \n",
    "    "
   ]
  },
  {
   "cell_type": "code",
   "execution_count": 60,
   "metadata": {
    "collapsed": false
   },
   "outputs": [
    {
     "data": {
      "text/plain": [
       "'#'"
      ]
     },
     "execution_count": 60,
     "metadata": {},
     "output_type": "execute_result"
    }
   ],
   "source": [
    "first_non_repeating_letter('~><#~><')"
   ]
  },
  {
   "cell_type": "code",
   "execution_count": 61,
   "metadata": {
    "collapsed": false
   },
   "outputs": [],
   "source": [
    "# maximum subarray sum\n",
    "\n",
    "def max_sequence(arr):\n",
    "    new_list = []\n",
    "    for i in arr:\n",
    "        if i >= 0:\n",
    "            new_list.append(i)\n",
    "    \n",
    "    return sum(new_list)\n",
    "    "
   ]
  },
  {
   "cell_type": "code",
   "execution_count": 62,
   "metadata": {
    "collapsed": false
   },
   "outputs": [
    {
     "data": {
      "text/plain": [
       "12"
      ]
     },
     "execution_count": 62,
     "metadata": {},
     "output_type": "execute_result"
    }
   ],
   "source": [
    "max_sequence([-2, 1, -3, 4, -1, 2, 1, -5, 4])"
   ]
  },
  {
   "cell_type": "code",
   "execution_count": 63,
   "metadata": {
    "collapsed": false
   },
   "outputs": [],
   "source": [
    "def get_count(words):\n",
    "    try:\n",
    "        vowels = ['a', 'e', 'i', 'o', 'u', 'A', 'E', 'I', 'O', 'U']\n",
    "        vowels_count = []\n",
    "        con_count = []\n",
    "        for i in words:\n",
    "            if i.isalpha():\n",
    "                if i in vowels:\n",
    "                    vowels_count.append(i)\n",
    "                else:\n",
    "                    con_count.append(i)\n",
    "            else:\n",
    "                None\n",
    "        return {'vowels': len(vowels_count)}, {'consonants': len(con_count)}\n",
    "    except TypeError:\n",
    "        return {'vowels': len(vowels_count)}, {'consonants': len(con_count)}"
   ]
  },
  {
   "cell_type": "code",
   "execution_count": 64,
   "metadata": {
    "collapsed": false
   },
   "outputs": [
    {
     "data": {
      "text/plain": [
       "({'vowels': 2}, {'consonants': 4})"
      ]
     },
     "execution_count": 64,
     "metadata": {},
     "output_type": "execute_result"
    }
   ],
   "source": [
    "get_count('adfasf')"
   ]
  },
  {
   "cell_type": "code",
   "execution_count": 65,
   "metadata": {
    "collapsed": true
   },
   "outputs": [],
   "source": [
    "dictionary=[ 'abnormal',\n",
    "  'arm-wrestling',\n",
    "  'absolute',\n",
    "  'Airplane',\n",
    "  'Airport',\n",
    "  'amazing',\n",
    "  'apple',\n",
    "  'ball' ]\n"
   ]
  },
  {
   "cell_type": "code",
   "execution_count": 66,
   "metadata": {
    "collapsed": false
   },
   "outputs": [],
   "source": [
    "# autocomplete\n",
    "\n",
    "def autocomplete(input_, dictionary):\n",
    "    just_alpha = []\n",
    "    new_list = []\n",
    "    usr_entry = str(input_)\n",
    "    for i in usr_entry:\n",
    "        if i.isalpha():\n",
    "            just_alpha.append(i)\n",
    "    for x in dictionary:\n",
    "        if x.startswith(''.join(just_alpha)):\n",
    "            new_list.append(x)\n",
    "    return new_list\n",
    "\n",
    "    \n",
    "    \n",
    "    "
   ]
  },
  {
   "cell_type": "code",
   "execution_count": 67,
   "metadata": {
    "collapsed": false
   },
   "outputs": [
    {
     "data": {
      "text/plain": [
       "[]"
      ]
     },
     "execution_count": 67,
     "metadata": {},
     "output_type": "execute_result"
    }
   ],
   "source": [
    "autocomplete('$%ai^', dictionary)"
   ]
  },
  {
   "cell_type": "code",
   "execution_count": 68,
   "metadata": {
    "collapsed": false
   },
   "outputs": [],
   "source": [
    "def sumDigits(number):\n",
    "    num_list = []\n",
    "    for i in str(abs(number)):\n",
    "        i = int(i)\n",
    "        num_list.append(i)\n",
    "      \n",
    "    n = sum(num_list)\n",
    "    return n"
   ]
  },
  {
   "cell_type": "code",
   "execution_count": 69,
   "metadata": {
    "collapsed": false
   },
   "outputs": [
    {
     "data": {
      "text/plain": [
       "5"
      ]
     },
     "execution_count": 69,
     "metadata": {},
     "output_type": "execute_result"
    }
   ],
   "source": [
    "sumDigits(-14)"
   ]
  },
  {
   "cell_type": "code",
   "execution_count": 152,
   "metadata": {
    "collapsed": false
   },
   "outputs": [],
   "source": [
    "def sort_by_length(arr):\n",
    "    new_list = []\n",
    "    for i in arr:\n",
    "        new_list.append(i)\n",
    "    return sorted(new_list[::-1], key=len)\n",
    "        \n",
    "    "
   ]
  },
  {
   "cell_type": "code",
   "execution_count": 153,
   "metadata": {
    "collapsed": false
   },
   "outputs": [
    {
     "data": {
      "text/plain": [
       "['i', 'to', 'beg', 'life']"
      ]
     },
     "execution_count": 153,
     "metadata": {},
     "output_type": "execute_result"
    }
   ],
   "source": [
    "sort_by_length([\"i\", \"to\", \"beg\", \"life\"])"
   ]
  },
  {
   "cell_type": "code",
   "execution_count": null,
   "metadata": {
    "collapsed": true
   },
   "outputs": [],
   "source": []
  }
 ],
 "metadata": {
  "anaconda-cloud": {},
  "kernelspec": {
   "display_name": "Python 2",
   "language": "python",
   "name": "python2"
  },
  "language_info": {
   "codemirror_mode": {
    "name": "ipython",
    "version": 2
   },
   "file_extension": ".py",
   "mimetype": "text/x-python",
   "name": "python",
   "nbconvert_exporter": "python",
   "pygments_lexer": "ipython2",
   "version": "2.7.13"
  }
 },
 "nbformat": 4,
 "nbformat_minor": 0
}
