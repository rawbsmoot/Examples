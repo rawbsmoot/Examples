{
 "cells": [
  {
   "cell_type": "markdown",
   "metadata": {},
   "source": [
    "# <center>Project 4 -- Predicting Salaries for Data Science Job-Seekers</center>\n",
    "## <center>Importing Data and EDA</center>"
   ]
  },
  {
   "cell_type": "code",
   "execution_count": 1,
   "metadata": {
    "collapsed": false
   },
   "outputs": [],
   "source": [
    "import requests\n",
    "from sklearn.metrics import confusion_matrix, accuracy_score, precision_score, recall_score, roc_curve, auc, f1_score\n",
    "from sklearn.metrics import roc_auc_score, classification_report\n",
    "import numpy as np\n",
    "import pandas as pd\n",
    "from lxml import html\n",
    "import bs4\n",
    "from bs4 import BeautifulSoup\n",
    "import urllib2\n",
    "import re\n",
    "import patsy \n",
    "from sklearn.grid_search import GridSearchCV\n",
    "from sklearn.linear_model import LogisticRegression, Ridge, LogisticRegressionCV\n",
    "from sklearn.cross_validation import train_test_split, cross_val_score\n",
    "import math\n",
    "from sklearn import preprocessing, svm\n",
    "import matplotlib.pyplot as plt\n",
    "plt.style.use('seaborn-white')\n",
    "%matplotlib inline"
   ]
  },
  {
   "cell_type": "code",
   "execution_count": 2,
   "metadata": {
    "collapsed": true
   },
   "outputs": [],
   "source": [
    "def auc_plotting_function(rate1, rate2, rate1_name, rate2_name, curve_name):\n",
    "    AUC = auc(rate1, rate2)\n",
    "    # Plot of a ROC curve for class 1 (has_cancer)\n",
    "    plt.figure(figsize=[11,9])\n",
    "    plt.plot(rate1, rate2, label=curve_name + ' (area = %0.2f)' % AUC, linewidth=4)\n",
    "    plt.plot([0, 1], [0, 1], 'k--', linewidth=4)\n",
    "    plt.xlim([0.0, 1.0])\n",
    "    plt.ylim([0.0, 1.05])\n",
    "    plt.xlabel(rate1_name, fontsize=18)\n",
    "    plt.ylabel(rate2_name, fontsize=18)\n",
    "    plt.title(curve_name + ' for salary > $84,999', fontsize=18)\n",
    "    plt.legend(loc=\"lower right\")\n",
    "    plt.show()\n",
    "    \n",
    "def plot_roc(ya_true, ya_score):\n",
    "    fpr, tpr, _ = roc_curve(ya_true, ya_score)\n",
    "    auc_plotting_function(fpr, tpr, 'False Positive Rate', 'True Positive Rate', 'ROC')"
   ]
  },
  {
   "cell_type": "code",
   "execution_count": 1,
   "metadata": {
    "collapsed": false
   },
   "outputs": [],
   "source": [
    "# # Reading in the file and having a look at the how many rows and columns it contains.\n",
    "df = pd.read_csv('/Users/smoot/Desktop/indeed-scraped-job-postings.csv')\n",
    "df.shape"
   ]
  },
  {
   "cell_type": "code",
   "execution_count": 87,
   "metadata": {
    "collapsed": false
   },
   "outputs": [
    {
     "data": {
      "text/html": [
       "<div>\n",
       "<table border=\"1\" class=\"dataframe\">\n",
       "  <thead>\n",
       "    <tr style=\"text-align: right;\">\n",
       "      <th></th>\n",
       "      <th>city</th>\n",
       "      <th>company</th>\n",
       "      <th>salary</th>\n",
       "      <th>summary</th>\n",
       "      <th>title</th>\n",
       "      <th>parsed_salary</th>\n",
       "    </tr>\n",
       "  </thead>\n",
       "  <tbody>\n",
       "    <tr>\n",
       "      <th>0</th>\n",
       "      <td>San+Francisco</td>\n",
       "      <td>MarkMonitor</td>\n",
       "      <td>$180,000 a year</td>\n",
       "      <td>Data skills (SQL, Hive, Pig). Applying machine...</td>\n",
       "      <td>Data Scientist</td>\n",
       "      <td>180000.0</td>\n",
       "    </tr>\n",
       "    <tr>\n",
       "      <th>1</th>\n",
       "      <td>San+Francisco</td>\n",
       "      <td>Workbridge Associates</td>\n",
       "      <td>$130,000 - $180,000 a year</td>\n",
       "      <td>3+ years of industry experience in a data scie...</td>\n",
       "      <td>Senior Data Scientist</td>\n",
       "      <td>155000.0</td>\n",
       "    </tr>\n",
       "    <tr>\n",
       "      <th>2</th>\n",
       "      <td>San+Francisco</td>\n",
       "      <td>Mines.io</td>\n",
       "      <td>$80,000 - $120,000 a year</td>\n",
       "      <td>We are looking for a data scientist/developer ...</td>\n",
       "      <td>Full-Stack Data Scientist</td>\n",
       "      <td>100000.0</td>\n",
       "    </tr>\n",
       "  </tbody>\n",
       "</table>\n",
       "</div>"
      ],
      "text/plain": [
       "            city                company                      salary  \\\n",
       "0  San+Francisco            MarkMonitor             $180,000 a year   \n",
       "1  San+Francisco  Workbridge Associates  $130,000 - $180,000 a year   \n",
       "2  San+Francisco               Mines.io   $80,000 - $120,000 a year   \n",
       "\n",
       "                                             summary  \\\n",
       "0  Data skills (SQL, Hive, Pig). Applying machine...   \n",
       "1  3+ years of industry experience in a data scie...   \n",
       "2  We are looking for a data scientist/developer ...   \n",
       "\n",
       "                       title  parsed_salary  \n",
       "0             Data Scientist       180000.0  \n",
       "1      Senior Data Scientist       155000.0  \n",
       "2  Full-Stack Data Scientist       100000.0  "
      ]
     },
     "execution_count": 87,
     "metadata": {},
     "output_type": "execute_result"
    }
   ],
   "source": [
    "# Looking at the first few rows to see what the data set looks like.\n",
    "df.head(3)"
   ]
  },
  {
   "cell_type": "code",
   "execution_count": 88,
   "metadata": {
    "collapsed": false
   },
   "outputs": [
    {
     "name": "stdout",
     "output_type": "stream",
     "text": [
      "['San+Francisco' 'New+York' 'Austin' 'Seattle' 'Chicago']\n",
      "Austin           2681\n",
      "Chicago          1175\n",
      "New+York          441\n",
      "San+Francisco     405\n",
      "Seattle            89\n",
      "Name: city, dtype: int64\n"
     ]
    }
   ],
   "source": [
    "'''Looking for how many unique cities are in the data set.  There are five cities: San Francisco, New York, Chicago,\n",
    "Austin and Seattle.  We can also see which city has the most job postings.  We must be aware, in our case, that there\n",
    "are many duplicate rows and these numbers may not be a real indicator of a city having a large surplus of data\n",
    "science jobs.'''\n",
    "\n",
    "print df['city'].unique()\n",
    "print df.city.value_counts()"
   ]
  },
  {
   "cell_type": "code",
   "execution_count": 89,
   "metadata": {
    "collapsed": false
   },
   "outputs": [],
   "source": [
    "# Looks like there is a '+' between two-word city names.  Lets remove that and add a space.\n",
    "df['city'] = df['city'].str.replace('+', ' ')"
   ]
  },
  {
   "cell_type": "code",
   "execution_count": 90,
   "metadata": {
    "collapsed": false
   },
   "outputs": [
    {
     "name": "stdout",
     "output_type": "stream",
     "text": [
      "['MarkMonitor' 'Workbridge Associates' 'Mines.io' 'Smith Hanley Associates'\n",
      " 'HSF Consulting' 'All-In Analytics' 'Brilent' 'Jobspring Partners'\n",
      " 'University of California Berkeley' 'Corporate Labs Technology' '3coast'\n",
      " 'NextGen Jane, Inc.' 'Talent Compliance Consulting Services'\n",
      " 'California State University' 'Analytic Recruiting' 'LT' 'Galvanize'\n",
      " 'AllianceBernstein' 'Empiric Solutions' 'Wade & Wendy'\n",
      " \"ADMIN FOR CHILDREN'S SVCS\" 'Selby Jennings' 'Technical Source'\n",
      " 'Datacom Technology Group' 'HRA/DEPT OF SOCIAL SERVICES'\n",
      " 'TalentHub Worldwide' 'Smart Host' 'Princeton Consulting'\n",
      " 'DEPT OF HEALTH/MENTAL HYGIENE' 'Infinity Consulting Solutions'\n",
      " 'Oliver James Associates' 'Execsolution, Inc.' 'Averity' 'Helix Sleep'\n",
      " 'Insurance Fund, State' 'Health Research Incorporated'\n",
      " 'Research Foundation of The City University of New...' 'ingenium'\n",
      " 'NJF Search' 'Atrium Staffing' 'DEPT OF ENVIRONMENT PROTECTION'\n",
      " 'DEPARTMENT OF FINANCE' 'HOUSING PRESERVATION & DVLPMNT'\n",
      " 'The Big Game Hunter' 'OFFICE OF LABOR RELATIONS' 'POLICE DEPARTMENT'\n",
      " 'Econtetni' 'FIRE DEPARTMENT' 'Univision communications inc'\n",
      " 'Smith Arnold Partners' 'Hire Solutions Inc.' 'Health, Department of'\n",
      " 'University at Buffalo' 'AreteX Engineering'\n",
      " 'TechTank Staffing & Consulting Solutions' 'University of Texas at Austin'\n",
      " 'Texas Department of Public Safety' 'Dept of State Health Services'\n",
      " 'Myriad Development' 'Roc Search' 'Roland & Associates'\n",
      " 'The University of Texas System' 'Emoters Robotics' 'Providence Partners'\n",
      " 'JE Compliance' 'Prime Team Partners' 'Harvey Nash USA'\n",
      " 'Pullskill Technologies' 'Rakuten, Inc.' 'University of Washington'\n",
      " 'NuWest Group' 'Washington State Government'\n",
      " 'University of Washington Medical Center' 'King County'\n",
      " 'Department Of Veterans Affairs' 'Department of the Navy'\n",
      " 'University of Washington School of Medicine' 'Etech Hi Inc.' 'Hirewell'\n",
      " 'North shore Staffing Group' 'Food Management Search'\n",
      " 'Penfield Search Partners' 'ITStaff Technical Resources'\n",
      " 'Clinical Management Consultants']\n",
      "University of Texas at Austin                           2279\n",
      "Workbridge Associates                                   1146\n",
      "Emoters Robotics                                         390\n",
      "Clinical Management Consultants                          389\n",
      "Analytic Recruiting                                      341\n",
      "University of Washington Medical Center                   52\n",
      "DEPT OF HEALTH/MENTAL HYGIENE                             17\n",
      "All-In Analytics                                          13\n",
      "University of Washington                                  13\n",
      "Jobspring Partners                                         7\n",
      "Selby Jennings                                             7\n",
      "Smith Hanley Associates                                    6\n",
      "University of California Berkeley                          5\n",
      "Averity                                                    5\n",
      "NJF Search                                                 4\n",
      "ADMIN FOR CHILDREN'S SVCS                                  4\n",
      "DEPARTMENT OF FINANCE                                      3\n",
      "3coast                                                     3\n",
      "Econtetni                                                  3\n",
      "HSF Consulting                                             3\n",
      "Penfield Search Partners                                   3\n",
      "Empiric Solutions                                          3\n",
      "LT                                                         3\n",
      "Health Research Incorporated                               3\n",
      "HOUSING PRESERVATION & DVLPMNT                             3\n",
      "Research Foundation of The City University of New...       3\n",
      "Brilent                                                    3\n",
      "Hirewell                                                   3\n",
      "TalentHub Worldwide                                        2\n",
      "King County                                                2\n",
      "                                                        ... \n",
      "HRA/DEPT OF SOCIAL SERVICES                                1\n",
      "Mines.io                                                   1\n",
      "Texas Department of Public Safety                          1\n",
      "Datacom Technology Group                                   1\n",
      "ITStaff Technical Resources                                1\n",
      "Galvanize                                                  1\n",
      "JE Compliance                                              1\n",
      "Technical Source                                           1\n",
      "Infinity Consulting Solutions                              1\n",
      "Roland & Associates                                        1\n",
      "Harvey Nash USA                                            1\n",
      "The University of Texas System                             1\n",
      "Execsolution, Inc.                                         1\n",
      "Rakuten, Inc.                                              1\n",
      "University of Washington School of Medicine                1\n",
      "Princeton Consulting                                       1\n",
      "The Big Game Hunter                                        1\n",
      "Prime Team Partners                                        1\n",
      "Dept of State Health Services                              1\n",
      "Food Management Search                                     1\n",
      "Etech Hi Inc.                                              1\n",
      "Univision communications inc                               1\n",
      "North shore Staffing Group                                 1\n",
      "Department of the Navy                                     1\n",
      "FIRE DEPARTMENT                                            1\n",
      "California State University                                1\n",
      "NextGen Jane, Inc.                                         1\n",
      "Providence Partners                                        1\n",
      "TechTank Staffing & Consulting Solutions                   1\n",
      "MarkMonitor                                                1\n",
      "Name: company, dtype: int64\n"
     ]
    }
   ],
   "source": [
    "''''Looking at the unique companies in the data set.  Looks like there are an unusual amount of jobs at the University \n",
    "of Texas at Austin, probably because this data set is pretty crummy ;-)'''\n",
    "\n",
    "print pd.unique(df['company'].ravel())\n",
    "print df.company.value_counts()"
   ]
  },
  {
   "cell_type": "code",
   "execution_count": 91,
   "metadata": {
    "collapsed": false
   },
   "outputs": [
    {
     "data": {
      "text/html": [
       "<div>\n",
       "<table border=\"1\" class=\"dataframe\">\n",
       "  <thead>\n",
       "    <tr style=\"text-align: right;\">\n",
       "      <th></th>\n",
       "      <th>city</th>\n",
       "      <th>company</th>\n",
       "      <th>salary</th>\n",
       "      <th>summary</th>\n",
       "      <th>title</th>\n",
       "      <th>parsed_salary</th>\n",
       "    </tr>\n",
       "  </thead>\n",
       "  <tbody>\n",
       "    <tr>\n",
       "      <th>438</th>\n",
       "      <td>New York</td>\n",
       "      <td>Selby Jennings</td>\n",
       "      <td>$650 - $900 a day</td>\n",
       "      <td>Senior Quantitative Developer/Machine Learning...</td>\n",
       "      <td>Senior Quantitative/Machine Learning - Contract</td>\n",
       "      <td>NaN</td>\n",
       "    </tr>\n",
       "    <tr>\n",
       "      <th>456</th>\n",
       "      <td>New York</td>\n",
       "      <td>Selby Jennings</td>\n",
       "      <td>$650 - $900 a day</td>\n",
       "      <td>Senior Quantitative Developer/Machine Learning...</td>\n",
       "      <td>Senior Quantitative/Machine Learning - Contract</td>\n",
       "      <td>NaN</td>\n",
       "    </tr>\n",
       "  </tbody>\n",
       "</table>\n",
       "</div>"
      ],
      "text/plain": [
       "         city         company             salary  \\\n",
       "438  New York  Selby Jennings  $650 - $900 a day   \n",
       "456  New York  Selby Jennings  $650 - $900 a day   \n",
       "\n",
       "                                               summary  \\\n",
       "438  Senior Quantitative Developer/Machine Learning...   \n",
       "456  Senior Quantitative Developer/Machine Learning...   \n",
       "\n",
       "                                               title  parsed_salary  \n",
       "438  Senior Quantitative/Machine Learning - Contract            NaN  \n",
       "456  Senior Quantitative/Machine Learning - Contract            NaN  "
      ]
     },
     "execution_count": 91,
     "metadata": {},
     "output_type": "execute_result"
    }
   ],
   "source": [
    "'''Looking over unique salary values.  We will need to multiply some salaries by 12 since they are listed as a per\n",
    "month wage.  Also it appears that there is an entry where the salary is listed as a per day wage.  This entry has one\n",
    "duplicate.  Converting a per day wage into a yearly salary (how many days a week did they work? Did they work holidays?)\n",
    "seems overly complex so we are going to simply remove them from the data set. '''\n",
    "\n",
    "pd.unique(df.salary.ravel())\n",
    "df.salary.unique().ravel()\n",
    "df[df.isnull().any(axis=1)]"
   ]
  },
  {
   "cell_type": "code",
   "execution_count": 2,
   "metadata": {
    "collapsed": false
   },
   "outputs": [],
   "source": [
    "''''It looks like there are several summaries that repeat many times.  We have decided to leave these duplicate entries \n",
    "in our data set.''''\n",
    "\n",
    "pd.unique(df['summary'].ravel())\n",
    "print df['summary'].value_counts()"
   ]
  },
  {
   "cell_type": "code",
   "execution_count": 93,
   "metadata": {
    "collapsed": false
   },
   "outputs": [
    {
     "data": {
      "text/plain": [
       "array(['Data Scientist', 'Senior Data Scientist',\n",
       "       'Full-Stack Data Scientist', 'VP of Data Services',\n",
       "       'Fraud Data Scientist', 'Python Developer (Machine Learning)',\n",
       "       'Staff Research Associate, PMB',\n",
       "       'Chief Algorithm Developer (Signal Processing) - Wearables',\n",
       "       'Post-Doctoral Scholar-Employee: Analysis of omics data',\n",
       "       'Principal Data Scientist', 'Data Scientist (Econometrics)',\n",
       "       'Data Scientist (Statistics/Economics)',\n",
       "       'Data Scientist (Machine Learning)',\n",
       "       'Senior NLP Scientist/Engineer',\n",
       "       'Senior Data Scientist (Autonomous Vehicle Research)',\n",
       "       'VP - Predictive Modeling / Data Scientist',\n",
       "       'Database Administrator, GSE', 'Scientific Researcher',\n",
       "       'Vice President Engineering (Big Data/ Machine Learning)',\n",
       "       'Quality Control Scientist',\n",
       "       'Administrative Analyst/Specialist, Exempt I - Office of Rese...',\n",
       "       'Senior Data Scientist (Python, R, recommendation)',\n",
       "       'Data Scientist (Natural Language Processing)',\n",
       "       'Senior Data Scientist (FinTech)',\n",
       "       'Staff Engineer, Machine Learning (Scala)',\n",
       "       'Mid-Level Data Engineer', 'Data Scientist - Python',\n",
       "       'Lead Data Scientist', 'Director of Data Science (Mapping)',\n",
       "       'QA Engineer', 'Java Developer',\n",
       "       'Data Science Resident (DSR), Data Engineering Resident (DER)...',\n",
       "       'Erlang Engineer',\n",
       "       'Lecturer - Statistics - Department of Statistics (includes s...',\n",
       "       'Senior Data Scientist (Healthcare)', 'AVP/Quantitative Analyst',\n",
       "       'Data Scientist - Digital Marketing - Technology Start-Up',\n",
       "       'Data Scientist - Life Sciences',\n",
       "       'Director of Qualitative Review & Evaluation Unit',\n",
       "       'Quantitative Analyst (Fundamental Quant Equities) - Hedge Fu...',\n",
       "       'DATA ANALYST', 'Data Scientist (Lead)',\n",
       "       'Data Analyst, Bureau of Chronic Disease Prevention and Tobac...',\n",
       "       'Business Analyst ( Data)', 'VP - Predictive Modeling Actuary',\n",
       "       'Quantitative Analyst (Big Data Focus) at $10+ Billion Hedge...',\n",
       "       'Senior Data Analyst', 'Quantitative Analyst',\n",
       "       'Data Engineer (Partially Remote)',\n",
       "       'Sr. Machine Learning Data Scientist',\n",
       "       'Data Scientist (AML Experience)',\n",
       "       'Junior Quantitative Analyst / Developer for $5B Hedge Fund',\n",
       "       'Senior Quantitative/Machine Learning - Contract',\n",
       "       'Research Scientist I', 'VP Data Scientist',\n",
       "       'Quantitative Data Scientist - Large Asset Manager',\n",
       "       'Senior Data Analyst, Bureau of Sexually Transmitted Disease...',\n",
       "       'Water Quality Modeler', 'Big Data Engineer',\n",
       "       'Senior Statistical Market Research Analyst',\n",
       "       'Machine Learning Research Scientist - Hedgefund',\n",
       "       'Senior Data Analyst, Bureau of Sexually Transmitted Disease',\n",
       "       'SR. SCIENTIST', 'Quality Assurance Officer',\n",
       "       'Project Coordinator, Bureau of HIV/AIDS Prevention and Contr...',\n",
       "       'Policy Data Analyst', 'Market Research Senior Analyst',\n",
       "       'Assurance Coordinator, Bureau of Sexually Transmitted Diseas...',\n",
       "       'Market Research Analyst', 'Survey Methodologist',\n",
       "       'Predictive Risk Analyst',\n",
       "       'Research Analyst, Bureau of Systems Strengthening and Access',\n",
       "       'Predictive Analytics Professionals-- ROAD WARRIORS',\n",
       "       'Program Coordinator',\n",
       "       'Surveillance analyst, Bureau of Communicable Diseases',\n",
       "       'Junior Research Analyst, Family and Child Health Administrat...',\n",
       "       'STATISTICIAN, LEVEL I', 'Machine Learning Data Engineer',\n",
       "       'Machine Learning Engineer Entry Level',\n",
       "       'Researcher and Data Analyst, Developmental Disabilities',\n",
       "       'Reportable Disease Analyst, Bureau of Communicable Diseases',\n",
       "       'Molecular Biology Researcher', 'Property Valuation Modeler',\n",
       "       'Program Research Specialist III',\n",
       "       'Analyst, Strategy & Insights \\xe2\\x80\\x93 Custom Research',\n",
       "       'Evaluator/Statistician, Family and Child Health/Bureau of Sc...',\n",
       "       'Statistician \\xe2\\x80\\x93 Trading Firm', 'Child Welfare Analyst',\n",
       "       'Technical Researcher', 'Research Analyst',\n",
       "       'Senior Research Analyst',\n",
       "       'HIV Phylogenetic Testing Group Leader, Bureau of Public Heal...',\n",
       "       'JR. Full Stack Developer',\n",
       "       'Data Use and Research Analyst, Bureau of Vital Statistics',\n",
       "       'Assistant Research Scientist (Virology) - 34114',\n",
       "       'Executive Director of Data Governance',\n",
       "       'Machine Learning Engineer',\n",
       "       'NSF-Sponsored Postdoctoral Fellow: EEG Analysis',\n",
       "       'Emergency Preparedness Coordinator, Bureau of Healthcare Sys...',\n",
       "       'Research Associate, Bureau of Systems Strengthening and Acce...',\n",
       "       'Director of Predictive Analytics (Statistician)',\n",
       "       'Data Scientist Programmer/Specialist', 'Research Scientist',\n",
       "       'Engineering Scientist - R and D Algorithm and System Develop...',\n",
       "       'Research Engineering/ Scientist Associate IV',\n",
       "       'Senior Deep Learning Data Scientist',\n",
       "       'Research Associate - R and D Data Scientist',\n",
       "       'Engineering Scientist Associate - GNSS Analyst Associate',\n",
       "       'Statistician III-IV, HSOC, THP-Austin',\n",
       "       'Engineering Scientist Associate - R and D Software Developer',\n",
       "       'Linkage Specialist', 'Research Analyst/Operations',\n",
       "       'Engineering Scientist - Underwater Robotics Algorithm Lead',\n",
       "       'Data Scientist - North Austin/80k/Analytics',\n",
       "       'Engineering Scientist - GNSS Analyst', 'Data Scientist - Big Data',\n",
       "       'Engineering Scientist Associate - Underwater Robotics Algori...',\n",
       "       'Research Analyst/Customer Serv',\n",
       "       'Research Associate - Array Processing Scientist',\n",
       "       'Research Engineering/ Scientist Assistant - Laboratory Techn...',\n",
       "       'Research Engineering/ Scientist Associate IV - Spatial Data...',\n",
       "       'Institutional Research Analyst',\n",
       "       'Robotics software engineer (involves machine learning, AI, a...',\n",
       "       'Research Analyst (excel, analysis, client-facing)',\n",
       "       'International Environmental Specialist',\n",
       "       'Engineering Scientist Associate - Software Defined Radio Rec...',\n",
       "       'Engineering Scientist - Senior Software Defined Radio Receiv...',\n",
       "       'Engineering Scientist - Geospatial Application Software Deve...',\n",
       "       'Research Engineering/ Scientist Associate II - Paleontology...',\n",
       "       'Engineering Scientist Associate - Software Engineering Assoc...',\n",
       "       'Digital Data Scientist', 'Data Science Engineer',\n",
       "       'Data Scientist (Software Engineering)',\n",
       "       'Sr. Data Scientist, Compensation Analytics',\n",
       "       'Software Development Engineer (Machine Learning)',\n",
       "       'Business Intelligence Data Scientist',\n",
       "       'RESEARCH STUDY COORDINATOR 2 (50%)',\n",
       "       'Senior Business Intelligence Data Scientist',\n",
       "       'Research Associate- CHO Cell Process Development',\n",
       "       'PROPERTY AND EVIDENCE CUSTODIAN', 'STOCKROOM ATTENDANT 2',\n",
       "       'DRIVER-WAREHOUSE WORKER', 'RESEARCH STUDY ASSISTANT',\n",
       "       'SERVICE DESK ANALYST', 'Senior Business Intelligence Scientist',\n",
       "       'Trace Organics - Environmental Lab Scientist II',\n",
       "       'PATIENT FINANCIAL SERVICES SPECIALIST 2',\n",
       "       'OFFICE OPERATIONS AND ACCESSIONS ANALYST',\n",
       "       'MEDICAL LABORATORY SCIENTIST-TRAINEE OR 1',\n",
       "       'COMPUTER MAINTENANCE TECHNICIAN 3',\n",
       "       'Medical Technologist (Laboratory Information Manager)',\n",
       "       'Business Intelligence Scientist',\n",
       "       'CONTACT CENTER REPRESENTATIVE 1 - CANDIDATE BANK',\n",
       "       'Sr. Global Device Manager', 'Administrative Assistant',\n",
       "       'ELECTRONIC INVOICE SPECIALIST, HMC ACCTS PAYABLE',\n",
       "       'CLINICAL LABORATORY TECHNICIAN 1', 'CHARGE CAPTURE COORDINATOR',\n",
       "       'Postdoc / Research Scientist', 'MEDICAL LABORATORY SCIENTIST 2',\n",
       "       'MEDICAL LABORATORY SCIENTIST 1 OR TRAINEE', 'Statistician',\n",
       "       'Data Analyst / Scientist', 'Business Data Analyst',\n",
       "       'Senior Data Scientist (Python, R) in Des Plaines',\n",
       "       '(Sr.) Statistical Consultant', 'Statistical Analyst',\n",
       "       'Product Development Specialist - Food R&D',\n",
       "       'Manager of Data Science (Python, R)',\n",
       "       'Data Scientist -Fitness/Wellness Firm',\n",
       "       'Quantitative Researcher, Machine Learning & Bayesian inferen...',\n",
       "       'Food Scientist MS or PhD - Meat Products', 'Lead Data Engineer',\n",
       "       'Director of Data Analytics',\n",
       "       'Senior Data Scientist (Deep Learning or NLP)',\n",
       "       'Director of Data Science', 'Assistant Director Biostatistics',\n",
       "       'Technical Project Manager/Business Analyst', 'Data Engineer',\n",
       "       'Equity Research Analyst \\xe2\\x80\\x93 Biotech - Chicago, IL',\n",
       "       'Associate Director Statistics Phase I',\n",
       "       'Mid-Level C# .NET Software Engineer',\n",
       "       'Manager Health Information Management Data Analysis HIM',\n",
       "       'Senior Java Computer Scientist'], dtype=object)"
      ]
     },
     "execution_count": 93,
     "metadata": {},
     "output_type": "execute_result"
    }
   ],
   "source": [
    "# Looking at the unique entries in title.  They appear to match the amount of duplicates in other columns.\n",
    "\n",
    "df.title.value_counts()\n",
    "pd.unique(df.title.ravel())"
   ]
  },
  {
   "cell_type": "code",
   "execution_count": 94,
   "metadata": {
    "collapsed": false
   },
   "outputs": [
    {
     "name": "stdout",
     "output_type": "stream",
     "text": [
      "5950.0      788\n",
      "3210.0      783\n",
      "8541.5      699\n",
      "85000.0     396\n",
      "170000.0    393\n",
      "82329.0     389\n",
      "130000.0    369\n",
      "137500.0    357\n",
      "150000.0    347\n",
      "5098.0       35\n",
      "120000.0     15\n",
      "76941.5      14\n",
      "140000.0     13\n",
      "200000.0      8\n",
      "100000.0      7\n",
      "65000.0       7\n",
      "145000.0      6\n",
      "64055.5       5\n",
      "185000.0      5\n",
      "160000.0      5\n",
      "135000.0      5\n",
      "75000.0       5\n",
      "190000.0      4\n",
      "3438.5        4\n",
      "180000.0      4\n",
      "175000.0      4\n",
      "125000.0      4\n",
      "90000.0       4\n",
      "3611.0        3\n",
      "8124.5        3\n",
      "           ... \n",
      "59984.5       1\n",
      "8333.0        1\n",
      "41000.0       1\n",
      "3524.5        1\n",
      "57500.0       1\n",
      "6388.0        1\n",
      "47406.0       1\n",
      "51363.0       1\n",
      "71000.0       1\n",
      "4966.0        1\n",
      "53875.0       1\n",
      "4714.0        1\n",
      "4459.0        1\n",
      "71568.0       1\n",
      "250000.0      1\n",
      "49012.0       1\n",
      "47799.5       1\n",
      "45000.0       1\n",
      "55200.0       1\n",
      "225000.0      1\n",
      "76897.5       1\n",
      "110000.0      1\n",
      "3466.0        1\n",
      "49222.5       1\n",
      "3361.0        1\n",
      "52500.0       1\n",
      "80000.0       1\n",
      "60000.0       1\n",
      "2500.0        1\n",
      "97866.5       1\n",
      "Name: parsed_salary, dtype: int64\n",
      "[ 180000.   155000.   100000.   165000.   140000.   300000.   125000.\n",
      "  130000.   160000.   162500.     3850.   150000.    47406.   120000.\n",
      "  145000.   170000.    74550.    65000.   227500.    55200.   152500.\n",
      "  135000.   175000.   200000.     2500.    49012.   137500.   122500.\n",
      "   97866.5   59984.5  105000.   115000.    75000.    76941.5   80000.\n",
      "  215000.   250000.        nan   53875.   225000.    88331.    61500.\n",
      "   64055.5   74119.5   85000.    83500.    76897.5   51363.    57969.\n",
      "   71568.    69749.    55000.    64000.    52500.    57500.    45000.\n",
      "   47799.5   47000.   185000.    82065.5    8333.     8541.5    6806.\n",
      "    8124.5    5950.     4714.     4966.    35000.     2333.     6388.\n",
      "    4459.    41000.     3210.   190000.     3611.    60000.     2549.5\n",
      "    2749.5    3139.5    2846.     4178.    81078.     3072.5    3438.5\n",
      "    5098.     5619.5   87313.5    3524.5   49222.5    3699.5    3466.\n",
      "    3361.    40000.     5686.5    4949.5   71000.    95000.    90000.\n",
      "  110000.   132500.    82329. ]\n"
     ]
    }
   ],
   "source": [
    "''''Now we are looking at the 'parsed_salary' column.  We already know there are two null values.  We can also see that \n",
    "the values in this column are not all yearly salaries. If the 'salary' column had a clear cut salary listed it went nicely \n",
    "into 'parsed_salary.'  If it was a range, the middle point of the range ended up in 'parsed_salary.'  If it was a \n",
    "salary by month it is likely to be below $10,000.  We can simply multiply such values by 12 to get something resembling\n",
    "an annual salary.  We do not know how benefits will be calculated into such cases yet we decided to disregard that and \n",
    "have decided to treat them the same. '''\n",
    "\n",
    "print df.parsed_salary.value_counts()\n",
    "print pd.unique(df.parsed_salary)"
   ]
  },
  {
   "cell_type": "code",
   "execution_count": 95,
   "metadata": {
    "collapsed": false
   },
   "outputs": [],
   "source": [
    "# Now let's get rid of the null values in our 'parsed_salary' column.\n",
    "\n",
    "df.isnull().sum()\n",
    "df.dropna(inplace = True)"
   ]
  },
  {
   "cell_type": "code",
   "execution_count": 96,
   "metadata": {
    "collapsed": false
   },
   "outputs": [],
   "source": [
    "# This salary column doesn't seem to have much use anymore.  Let's replace it with the 'parsed_salary' column.\n",
    "\n",
    "df['salary'] = df['parsed_salary']\n",
    "del df['parsed_salary']"
   ]
  },
  {
   "cell_type": "code",
   "execution_count": 97,
   "metadata": {
    "collapsed": false
   },
   "outputs": [
    {
     "data": {
      "text/html": [
       "<div>\n",
       "<table border=\"1\" class=\"dataframe\">\n",
       "  <thead>\n",
       "    <tr style=\"text-align: right;\">\n",
       "      <th></th>\n",
       "      <th>city</th>\n",
       "      <th>company</th>\n",
       "      <th>salary</th>\n",
       "      <th>summary</th>\n",
       "      <th>title</th>\n",
       "    </tr>\n",
       "  </thead>\n",
       "  <tbody>\n",
       "    <tr>\n",
       "      <th>0</th>\n",
       "      <td>San Francisco</td>\n",
       "      <td>MarkMonitor</td>\n",
       "      <td>180000.0</td>\n",
       "      <td>Data skills (SQL, Hive, Pig). Applying machine...</td>\n",
       "      <td>Data Scientist</td>\n",
       "    </tr>\n",
       "  </tbody>\n",
       "</table>\n",
       "</div>"
      ],
      "text/plain": [
       "            city      company    salary  \\\n",
       "0  San Francisco  MarkMonitor  180000.0   \n",
       "\n",
       "                                             summary           title  \n",
       "0  Data skills (SQL, Hive, Pig). Applying machine...  Data Scientist  "
      ]
     },
     "execution_count": 97,
     "metadata": {},
     "output_type": "execute_result"
    }
   ],
   "source": [
    "# Did it work?  Yes! Beautiful.\n",
    "\n",
    "df.head(1)"
   ]
  },
  {
   "cell_type": "code",
   "execution_count": 98,
   "metadata": {
    "collapsed": false
   },
   "outputs": [],
   "source": [
    "# Now lets multiply any value that we've deemed to be a monthly salary by 12 in order to make it an annual salary. \n",
    "\n",
    "df['salary'] = df['salary'].apply(lambda x: x*12 if (x < 10000) else x)"
   ]
  },
  {
   "cell_type": "code",
   "execution_count": 99,
   "metadata": {
    "collapsed": true
   },
   "outputs": [],
   "source": [
    "# df.to_csv('Data_Science_Jobs_one.csv')"
   ]
  },
  {
   "cell_type": "code",
   "execution_count": 100,
   "metadata": {
    "collapsed": false
   },
   "outputs": [
    {
     "data": {
      "text/plain": [
       "27996.0"
      ]
     },
     "execution_count": 100,
     "metadata": {},
     "output_type": "execute_result"
    }
   ],
   "source": [
    "# Checking the minimum $ amount in salary.  Almost 30K, looks like a pretty crummy, but plausable, annual salary.\n",
    "\n",
    "df.salary.min()"
   ]
  },
  {
   "cell_type": "code",
   "execution_count": 101,
   "metadata": {
    "collapsed": false
   },
   "outputs": [
    {
     "data": {
      "text/plain": [
       "85000.0"
      ]
     },
     "execution_count": 101,
     "metadata": {},
     "output_type": "execute_result"
    }
   ],
   "source": [
    "# Now we are going to calculate the median of our 'salary' column.  We will use this value to split our salaries in half.\n",
    "\n",
    "np.median(df.salary)"
   ]
  },
  {
   "cell_type": "markdown",
   "metadata": {},
   "source": [
    "#  <center>Model No. 1--Logistic Regression</center>"
   ]
  },
  {
   "cell_type": "code",
   "execution_count": 104,
   "metadata": {
    "collapsed": false
   },
   "outputs": [],
   "source": [
    "''''First we need to create a new column with salary as a 0 or 1.  Anything below 85000 = 0, everything else = 1.  \n",
    "We also need our variables in 'city' to become quantifiable so we will use the patsy function to accomplish this.'''\n",
    "\n",
    "df['salary_b'] = [0 if i < 85000  else 1 for i in df.salary]\n",
    "X = patsy.dmatrix('city -1', df)\n",
    "y = df['salary_b']"
   ]
  },
  {
   "cell_type": "code",
   "execution_count": 105,
   "metadata": {
    "collapsed": true
   },
   "outputs": [],
   "source": [
    "# Train, test, split.  We split our data into quarters.\n",
    "\n",
    "X_train, X_test, y_train, y_test = train_test_split(X, y, test_size=0.25, stratify = y, random_state = 7)"
   ]
  },
  {
   "cell_type": "code",
   "execution_count": 106,
   "metadata": {
    "collapsed": false
   },
   "outputs": [],
   "source": [
    "# Instantiating the instance of our function for Logistic Regression and fitting the model to our training set. \n",
    "\n",
    "lm = LogisticRegression()\n",
    "logreg = lm.fit(X_train, y_train)"
   ]
  },
  {
   "cell_type": "code",
   "execution_count": 107,
   "metadata": {
    "collapsed": false
   },
   "outputs": [
    {
     "name": "stdout",
     "output_type": "stream",
     "text": [
      "[[-1.10116841 -0.13030682  1.20908187  2.83330387 -2.04958527]] [1 0 0 ..., 0 1 0]\n"
     ]
    }
   ],
   "source": [
    "# Let's take a look at the predicted scores and coefficients.\n",
    "\n",
    "y_pred = logreg.predict(X_test)\n",
    "print lm.coef_, y_pred"
   ]
  },
  {
   "cell_type": "code",
   "execution_count": 108,
   "metadata": {
    "collapsed": false
   },
   "outputs": [
    {
     "name": "stdout",
     "output_type": "stream",
     "text": [
      "0.691986644407\n"
     ]
    }
   ],
   "source": [
    "print lm.score(X_test, y_test)"
   ]
  },
  {
   "cell_type": "code",
   "execution_count": 109,
   "metadata": {
    "collapsed": false
   },
   "outputs": [
    {
     "data": {
      "text/plain": [
       "array([ 0.70954357,  0.69583333,  0.66108787,  0.71966527,  0.67364017])"
      ]
     },
     "execution_count": 109,
     "metadata": {},
     "output_type": "execute_result"
    }
   ],
   "source": [
    "# Cross validating our score.  It looks like our score is reliable.\n",
    "\n",
    "score = cross_val_score(logreg, X_test, y_test, cv = 5)\n",
    "score"
   ]
  },
  {
   "cell_type": "markdown",
   "metadata": {},
   "source": [
    "# <center>Model No. 2</center>\n",
    "<center>For Model No. 2 we will split our target, salary, into 3 categories as ('salary_m')</center>"
   ]
  },
  {
   "cell_type": "code",
   "execution_count": 110,
   "metadata": {
    "collapsed": false
   },
   "outputs": [
    {
     "data": {
      "text/html": [
       "<div>\n",
       "<table border=\"1\" class=\"dataframe\">\n",
       "  <thead>\n",
       "    <tr style=\"text-align: right;\">\n",
       "      <th></th>\n",
       "      <th>city</th>\n",
       "      <th>company</th>\n",
       "      <th>salary</th>\n",
       "      <th>summary</th>\n",
       "      <th>title</th>\n",
       "      <th>salary_b</th>\n",
       "      <th>salary_m</th>\n",
       "    </tr>\n",
       "  </thead>\n",
       "  <tbody>\n",
       "    <tr>\n",
       "      <th>0</th>\n",
       "      <td>San Francisco</td>\n",
       "      <td>MarkMonitor</td>\n",
       "      <td>180000.0</td>\n",
       "      <td>Data skills (SQL, Hive, Pig). Applying machine...</td>\n",
       "      <td>Data Scientist</td>\n",
       "      <td>1</td>\n",
       "      <td>2</td>\n",
       "    </tr>\n",
       "  </tbody>\n",
       "</table>\n",
       "</div>"
      ],
      "text/plain": [
       "            city      company    salary  \\\n",
       "0  San Francisco  MarkMonitor  180000.0   \n",
       "\n",
       "                                             summary           title  \\\n",
       "0  Data skills (SQL, Hive, Pig). Applying machine...  Data Scientist   \n",
       "\n",
       "   salary_b  salary_m  \n",
       "0         1         2  "
      ]
     },
     "execution_count": 110,
     "metadata": {},
     "output_type": "execute_result"
    }
   ],
   "source": [
    "''''Here we are making our dependent variable into 3 categories but running the same model.  \n",
    "Let's name this 'salary_m', for multi-class. Steps that were described in Model No. 1 will not be repeatedly described\n",
    "unless there is a deviation, in which case it will be noted.'''\n",
    "\n",
    "df['salary_m'] = [0 if i < 70000 else 2 if i > 130000  else 1 for i in df.salary]\n",
    "df.head(1)"
   ]
  },
  {
   "cell_type": "code",
   "execution_count": 111,
   "metadata": {
    "collapsed": false
   },
   "outputs": [],
   "source": [
    "# Here we use label encoder to encode our new variable 'salary_m'.\n",
    "\n",
    "le = preprocessing.LabelEncoder()\n",
    "le.fit(df['salary_m'])\n",
    "Y = df['salary_m']"
   ]
  },
  {
   "cell_type": "code",
   "execution_count": 112,
   "metadata": {
    "collapsed": true
   },
   "outputs": [],
   "source": [
    "X_train, X_test, Y_train, Y_test = train_test_split(X, Y, test_size=0.25, stratify = Y, random_state = 42)"
   ]
  },
  {
   "cell_type": "code",
   "execution_count": 113,
   "metadata": {
    "collapsed": false
   },
   "outputs": [],
   "source": [
    "logreg_two = lm.fit(X_train, Y_train)"
   ]
  },
  {
   "cell_type": "code",
   "execution_count": 114,
   "metadata": {
    "collapsed": false
   },
   "outputs": [],
   "source": [
    "Y_pred = logreg_two.predict(X_test)"
   ]
  },
  {
   "cell_type": "code",
   "execution_count": 115,
   "metadata": {
    "collapsed": false
   },
   "outputs": [
    {
     "data": {
      "text/plain": [
       "array([0, 1, 2, ..., 2, 1, 1])"
      ]
     },
     "execution_count": 115,
     "metadata": {},
     "output_type": "execute_result"
    }
   ],
   "source": [
    "Y_pred"
   ]
  },
  {
   "cell_type": "code",
   "execution_count": 116,
   "metadata": {
    "collapsed": false
   },
   "outputs": [
    {
     "name": "stdout",
     "output_type": "stream",
     "text": [
      "0.735171261487\n"
     ]
    }
   ],
   "source": [
    "print lm.score(X_test, Y_test)"
   ]
  },
  {
   "cell_type": "code",
   "execution_count": 117,
   "metadata": {
    "collapsed": false
   },
   "outputs": [
    {
     "data": {
      "text/plain": [
       "array([ 0.73858921,  0.72916667,  0.72384937,  0.74895397,  0.73529412])"
      ]
     },
     "execution_count": 117,
     "metadata": {},
     "output_type": "execute_result"
    }
   ],
   "source": [
    "logreg_two_score = cross_val_score(logreg_two, X_test, Y_test, cv = 5)\n",
    "logreg_two_score"
   ]
  },
  {
   "cell_type": "raw",
   "metadata": {},
   "source": [
    "By adding a class to our target variable we are able to increase our chances of predicting a salry and whether it is low ($70,000 or less), average (between $70,000 and $130,000), or high (above $130,000)--based soley on the location of the job.  Let's try a few more models and see if we can improve our score.  But before we move on let's note the cross validation scores.  They are really similar.  Our model seems to be quite precise but not overly accurate.  We might have a problem with underfitting for this model.  "
   ]
  },
  {
   "cell_type": "markdown",
   "metadata": {},
   "source": [
    "# <center>Model No. 3 -- Multinomial Logistic Regression</center>"
   ]
  },
  {
   "cell_type": "raw",
   "metadata": {},
   "source": [
    "Now we are going to use some more features to predict our target variable.  We will begin by adding a feature called 'position level.'  Here we will assign key words in the title description into categories.  If the word 'manager' or 'management' was in the title description it was coded as 'manager.' If the word 'senior', 'vp', or 'director' was found it was coded as 'senior', otherwise it was coded as 'other.'  Now that we have a new feature in place lets continue through this model as we have previously.  "
   ]
  },
  {
   "cell_type": "code",
   "execution_count": 118,
   "metadata": {
    "collapsed": false
   },
   "outputs": [
    {
     "data": {
      "text/html": [
       "<div>\n",
       "<table border=\"1\" class=\"dataframe\">\n",
       "  <thead>\n",
       "    <tr style=\"text-align: right;\">\n",
       "      <th></th>\n",
       "      <th>city</th>\n",
       "      <th>company</th>\n",
       "      <th>salary</th>\n",
       "      <th>summary</th>\n",
       "      <th>title</th>\n",
       "      <th>salary_b</th>\n",
       "      <th>salary_m</th>\n",
       "      <th>position_level</th>\n",
       "    </tr>\n",
       "  </thead>\n",
       "  <tbody>\n",
       "    <tr>\n",
       "      <th>0</th>\n",
       "      <td>San Francisco</td>\n",
       "      <td>MarkMonitor</td>\n",
       "      <td>180000.0</td>\n",
       "      <td>Data skills (SQL, Hive, Pig). Applying machine...</td>\n",
       "      <td>Data Scientist</td>\n",
       "      <td>1</td>\n",
       "      <td>2</td>\n",
       "      <td>other</td>\n",
       "    </tr>\n",
       "    <tr>\n",
       "      <th>1</th>\n",
       "      <td>San Francisco</td>\n",
       "      <td>Workbridge Associates</td>\n",
       "      <td>155000.0</td>\n",
       "      <td>3+ years of industry experience in a data scie...</td>\n",
       "      <td>Senior Data Scientist</td>\n",
       "      <td>1</td>\n",
       "      <td>2</td>\n",
       "      <td>senior</td>\n",
       "    </tr>\n",
       "  </tbody>\n",
       "</table>\n",
       "</div>"
      ],
      "text/plain": [
       "            city                company    salary  \\\n",
       "0  San Francisco            MarkMonitor  180000.0   \n",
       "1  San Francisco  Workbridge Associates  155000.0   \n",
       "\n",
       "                                             summary                  title  \\\n",
       "0  Data skills (SQL, Hive, Pig). Applying machine...         Data Scientist   \n",
       "1  3+ years of industry experience in a data scie...  Senior Data Scientist   \n",
       "\n",
       "   salary_b  salary_m position_level  \n",
       "0         1         2          other  \n",
       "1         1         2         senior  "
      ]
     },
     "execution_count": 118,
     "metadata": {},
     "output_type": "execute_result"
    }
   ],
   "source": [
    "# Create a position_level column which will contain categorized data for the Title.  This step was described above.\n",
    "\n",
    "def generatePositionLevel(title):\n",
    "    title = title.lower()\n",
    "    if (title.find('manager',0,len(title)) >= 0) or (title.find('management',0,len(title)) >= 0):\n",
    "        return 'manager'\n",
    "    elif (title.find('senior',0,len(title)) >= 0) or (title.find('vp',0,len(title)) >= 0) or (title.find('director',0,len(title)) >= 0):\n",
    "        return 'senior'\n",
    "    else:    \n",
    "        return 'other'\n",
    "    \n",
    "df['position_level'] = df['title'].apply(generatePositionLevel)\n",
    "df.head(2)"
   ]
  },
  {
   "cell_type": "code",
   "execution_count": 119,
   "metadata": {
    "collapsed": false
   },
   "outputs": [],
   "source": [
    "Xs = patsy.dmatrix('city + position_level -1', df)\n",
    "Ys = df['salary_b']\n",
    "ys"
   ]
  },
  {
   "cell_type": "code",
   "execution_count": 120,
   "metadata": {
    "collapsed": false
   },
   "outputs": [],
   "source": [
    "Xs_train, Xs_test, Ys_train, Ys_test = train_test_split(Xs, Ys, test_size=0.25, stratify = Ys, random_state = 7)\n",
    "mlogreg = lm.fit(Xs_train, Ys_train)\n",
    "Ys_pred = mlogreg.predict(Xs_test)"
   ]
  },
  {
   "cell_type": "code",
   "execution_count": 121,
   "metadata": {
    "collapsed": false
   },
   "outputs": [
    {
     "data": {
      "text/plain": [
       "array([1, 0, 0, ..., 0, 1, 0])"
      ]
     },
     "execution_count": 121,
     "metadata": {},
     "output_type": "execute_result"
    }
   ],
   "source": [
    "Ys_pred"
   ]
  },
  {
   "cell_type": "code",
   "execution_count": 122,
   "metadata": {
    "collapsed": false
   },
   "outputs": [
    {
     "name": "stdout",
     "output_type": "stream",
     "text": [
      "0.834724540902\n"
     ]
    }
   ],
   "source": [
    "print mlogreg.score(Xs_test, Ys_test)"
   ]
  },
  {
   "cell_type": "code",
   "execution_count": 123,
   "metadata": {
    "collapsed": false
   },
   "outputs": [
    {
     "name": "stdout",
     "output_type": "stream",
     "text": [
      "[ 0.85062241  0.81666667  0.82426778  0.84518828  0.82426778]\n"
     ]
    }
   ],
   "source": [
    "score = cross_val_score(mlogreg, Xs_test, Ys_test, cv = 5)\n",
    "print score"
   ]
  },
  {
   "cell_type": "raw",
   "metadata": {},
   "source": [
    "We first ran this model with our target varaible set to be 'salary_m', however, our score was slightly lower than it was in the previous model.  By adding our new feature, 'position level', we actually made our model slightly worse (the score was 0.7280).  But good news!  We tried running this same model with 'salary_b' (remember this is our salary split into high and low on the median salary of $85,000) as our target variable and our model seems to perform a bit better.  Our cross validation scores are even fairly close.  This might be our best model but let's try one more just for the pure excitement of it!"
   ]
  },
  {
   "cell_type": "markdown",
   "metadata": {},
   "source": [
    "# <center>Model No. 4</center>"
   ]
  },
  {
   "cell_type": "raw",
   "metadata": {},
   "source": [
    "For this model, Model No. 4, we are going to add one more feature.  This time if we found particular skill words in the summary ('python', 'sql' or 'machine learning') we pulled them out and coded them as we did before with position level.  Let's see how this model runs."
   ]
  },
  {
   "cell_type": "code",
   "execution_count": 124,
   "metadata": {
    "collapsed": false
   },
   "outputs": [
    {
     "data": {
      "text/html": [
       "<div>\n",
       "<table border=\"1\" class=\"dataframe\">\n",
       "  <thead>\n",
       "    <tr style=\"text-align: right;\">\n",
       "      <th></th>\n",
       "      <th>city</th>\n",
       "      <th>company</th>\n",
       "      <th>salary</th>\n",
       "      <th>summary</th>\n",
       "      <th>title</th>\n",
       "      <th>salary_b</th>\n",
       "      <th>salary_m</th>\n",
       "      <th>position_level</th>\n",
       "      <th>skill_python</th>\n",
       "      <th>skill_sql</th>\n",
       "      <th>skill_machine_learning</th>\n",
       "    </tr>\n",
       "  </thead>\n",
       "  <tbody>\n",
       "    <tr>\n",
       "      <th>0</th>\n",
       "      <td>San Francisco</td>\n",
       "      <td>MarkMonitor</td>\n",
       "      <td>180000.0</td>\n",
       "      <td>Data skills (SQL, Hive, Pig). Applying machine...</td>\n",
       "      <td>Data Scientist</td>\n",
       "      <td>1</td>\n",
       "      <td>2</td>\n",
       "      <td>other</td>\n",
       "      <td>0</td>\n",
       "      <td>1</td>\n",
       "      <td>1</td>\n",
       "    </tr>\n",
       "    <tr>\n",
       "      <th>1</th>\n",
       "      <td>San Francisco</td>\n",
       "      <td>Workbridge Associates</td>\n",
       "      <td>155000.0</td>\n",
       "      <td>3+ years of industry experience in a data scie...</td>\n",
       "      <td>Senior Data Scientist</td>\n",
       "      <td>1</td>\n",
       "      <td>2</td>\n",
       "      <td>senior</td>\n",
       "      <td>1</td>\n",
       "      <td>0</td>\n",
       "      <td>0</td>\n",
       "    </tr>\n",
       "  </tbody>\n",
       "</table>\n",
       "</div>"
      ],
      "text/plain": [
       "            city                company    salary  \\\n",
       "0  San Francisco            MarkMonitor  180000.0   \n",
       "1  San Francisco  Workbridge Associates  155000.0   \n",
       "\n",
       "                                             summary                  title  \\\n",
       "0  Data skills (SQL, Hive, Pig). Applying machine...         Data Scientist   \n",
       "1  3+ years of industry experience in a data scie...  Senior Data Scientist   \n",
       "\n",
       "   salary_b  salary_m position_level  skill_python  skill_sql  \\\n",
       "0         1         2          other             0          1   \n",
       "1         1         2         senior             1          0   \n",
       "\n",
       "   skill_machine_learning  \n",
       "0                       1  \n",
       "1                       0  "
      ]
     },
     "execution_count": 124,
     "metadata": {},
     "output_type": "execute_result"
    }
   ],
   "source": [
    "# Create skill columns which will contain binary data for the Skills.\n",
    "\n",
    "def generateSkills(jobDescription, skill):\n",
    "    jobDescription = jobDescription.lower()\n",
    "    skill = skill.lower()\n",
    "    if jobDescription.find(skill) >= 0:\n",
    "        return 1\n",
    "    return 0\n",
    "\n",
    "# We limited the skills columns to python, sql and machine learning\n",
    "\n",
    "df['skill_python'] = [generateSkills(x,'python') for x in df.summary]\n",
    "df['skill_sql'] = [generateSkills(x,'sql') for x in df.summary]\n",
    "df['skill_machine_learning'] = [generateSkills(x,'machine learning') for x in df.summary]\n",
    "df.head(2)"
   ]
  },
  {
   "cell_type": "code",
   "execution_count": 125,
   "metadata": {
    "collapsed": false
   },
   "outputs": [],
   "source": [
    "Xa = patsy.dmatrix('city + position_level + skill_python + skill_sql + skill_machine_learning -1', df)\n",
    "ya = df['salary_b']\n",
    "\n",
    "lm = LogisticRegression(penalty='l2')\n",
    "Xa_train, Xa_test, ya_train, ya_test = train_test_split(Xa, ya, test_size = .25, stratify = ya, random_state = 3)\n",
    "skills = lm.fit(Xa_train, ya_train)\n",
    "ya_pred = skills.predict(Xa_test)"
   ]
  },
  {
   "cell_type": "code",
   "execution_count": 126,
   "metadata": {
    "collapsed": false
   },
   "outputs": [
    {
     "name": "stdout",
     "output_type": "stream",
     "text": [
      "0.847245409015\n"
     ]
    }
   ],
   "source": [
    "print skills.score(Xa_test, ya_test)"
   ]
  },
  {
   "cell_type": "code",
   "execution_count": 127,
   "metadata": {
    "collapsed": false
   },
   "outputs": [
    {
     "name": "stdout",
     "output_type": "stream",
     "text": [
      "[ 0.85062241  0.84583333  0.85774059  0.83682008  0.82845188]\n"
     ]
    }
   ],
   "source": [
    "skills_score = cross_val_score(skills, Xa_test, ya_test, cv = 5)\n",
    "print skills_score"
   ]
  },
  {
   "cell_type": "code",
   "execution_count": 128,
   "metadata": {
    "collapsed": false
   },
   "outputs": [
    {
     "name": "stdout",
     "output_type": "stream",
     "text": [
      "[[-0.48897653 -0.95350088 -0.24498699  1.0487791  -1.33331021  1.68276404\n",
      "   7.34344937  1.71103181 -0.05714276  1.21115039]]\n"
     ]
    }
   ],
   "source": [
    "# Not sure how to interpret this.\n",
    "\n",
    "print lm.coef_"
   ]
  },
  {
   "cell_type": "code",
   "execution_count": 129,
   "metadata": {
    "collapsed": false
   },
   "outputs": [],
   "source": [
    "lrcv = LogisticRegressionCV(Cs = 15)\n",
    "lrcv = lrcv.fit(Xa_test, ya_test)"
   ]
  },
  {
   "cell_type": "code",
   "execution_count": 130,
   "metadata": {
    "collapsed": false
   },
   "outputs": [
    {
     "name": "stdout",
     "output_type": "stream",
     "text": [
      "0.85225375626 [0 1 0 ..., 0 0 1]\n"
     ]
    }
   ],
   "source": [
    "lrcv_pred = lrcv.predict(Xa_test)\n",
    "print lrcv.score(Xa_test, ya_test), lrcv_pred"
   ]
  },
  {
   "cell_type": "raw",
   "metadata": {},
   "source": [
    "Wow!  Look at that.  This model beat the last one.  Since this seems to be our best model let's take a closer look at what's happening.  Belowe we will look at a confusion matrix of our prediction results, a classification report, a grid search and an ROC Curve.  "
   ]
  },
  {
   "cell_type": "markdown",
   "metadata": {},
   "source": [
    "#  <center>Model No. 4 -- ROC Curve & Confusion Matrix</center>"
   ]
  },
  {
   "cell_type": "code",
   "execution_count": 131,
   "metadata": {
    "collapsed": true
   },
   "outputs": [],
   "source": [
    "def plot_confusion_matrix(cm, title='Confusion Matrix', cmap=plt.cm.Purples):\n",
    "    plt.imshow(cm, interpolation='nearest', cmap = cmap)\n",
    "    plt.title(title)\n",
    "    plt.colorbar()\n",
    "    plt.tight_layout()\n",
    "    plt.ylabel('True label')\n",
    "    plt.xlabel('Predicted label')"
   ]
  },
  {
   "cell_type": "code",
   "execution_count": 132,
   "metadata": {
    "collapsed": false
   },
   "outputs": [
    {
     "data": {
      "text/html": [
       "<div>\n",
       "<table border=\"1\" class=\"dataframe\">\n",
       "  <thead>\n",
       "    <tr style=\"text-align: right;\">\n",
       "      <th></th>\n",
       "      <th>predicted_under_85K</th>\n",
       "      <th>predicted_over_85K</th>\n",
       "    </tr>\n",
       "  </thead>\n",
       "  <tbody>\n",
       "    <tr>\n",
       "      <th>under_85K</th>\n",
       "      <td>526</td>\n",
       "      <td>1</td>\n",
       "    </tr>\n",
       "    <tr>\n",
       "      <th>over_85K</th>\n",
       "      <td>182</td>\n",
       "      <td>489</td>\n",
       "    </tr>\n",
       "  </tbody>\n",
       "</table>\n",
       "</div>"
      ],
      "text/plain": [
       "           predicted_under_85K  predicted_over_85K\n",
       "under_85K                  526                   1\n",
       "over_85K                   182                 489"
      ]
     },
     "execution_count": 132,
     "metadata": {},
     "output_type": "execute_result"
    }
   ],
   "source": [
    "''''Below we can see how our predictions did.  It looks like we only had 1 false negative, which is pretty good.  We did \n",
    "have a lot of false positives but we've decided we can live with that.'''\n",
    "\n",
    "cm = np.array(confusion_matrix(ya_test, ya_pred))\n",
    "confusion = pd.DataFrame(cm, index=['under_85K', 'over_85K'],\n",
    "                         columns=['predicted_under_85K','predicted_over_85K'])\n",
    "confusion"
   ]
  },
  {
   "cell_type": "code",
   "execution_count": 133,
   "metadata": {
    "collapsed": false
   },
   "outputs": [
    {
     "data": {
      "image/png": "[encoded data removed]",
      "text/plain": [
       "<matplotlib.figure.Figure at 0x114782fd0>"
      ]
     },
     "metadata": {},
     "output_type": "display_data"
    }
   ],
   "source": [
    "# Here is a graphical representation of the confusion matrix. \n",
    "\n",
    "plt.figure()\n",
    "plot_confusion_matrix(cm)"
   ]
  },
  {
   "cell_type": "code",
   "execution_count": 134,
   "metadata": {
    "collapsed": false
   },
   "outputs": [
    {
     "name": "stdout",
     "output_type": "stream",
     "text": [
      "526 182 489 1\n"
     ]
    }
   ],
   "source": [
    "TP = confusion.ix['under_85K', 'predicted_under_85K']\n",
    "FP = confusion.ix['over_85K', 'predicted_under_85K']\n",
    "TN = confusion.ix['over_85K', 'predicted_over_85K']\n",
    "FN = confusion.ix['under_85K', 'predicted_over_85K']\n",
    "print TP, FP, TN, FN"
   ]
  },
  {
   "cell_type": "code",
   "execution_count": 135,
   "metadata": {
    "collapsed": false
   },
   "outputs": [
    {
     "name": "stdout",
     "output_type": "stream",
     "text": [
      "0.847245409015\n",
      "0.997959183673\n",
      "0.728763040238\n",
      "0.842377260982\n"
     ]
    }
   ],
   "source": [
    "''''Let's take a look at our scores.  It looks like we are really quite precise.  We could improve our accuracy but since\n",
    "our data set is so skewed we will settle for these results.  Hip Hip Hooray!'''\n",
    "\n",
    "print accuracy_score(ya_test, ya_pred)\n",
    "print precision_score(ya_test, ya_pred)\n",
    "print recall_score(ya_test, ya_pred)\n",
    "print f1_score(ya_test, ya_pred)"
   ]
  },
  {
   "cell_type": "code",
   "execution_count": 136,
   "metadata": {
    "collapsed": false
   },
   "outputs": [
    {
     "data": {
      "text/html": [
       "<div>\n",
       "<table border=\"1\" class=\"dataframe\">\n",
       "  <thead>\n",
       "    <tr style=\"text-align: right;\">\n",
       "      <th></th>\n",
       "      <th>predicted_under_85K</th>\n",
       "      <th>predicted_over_85K</th>\n",
       "    </tr>\n",
       "  </thead>\n",
       "  <tbody>\n",
       "    <tr>\n",
       "      <th>under_85K</th>\n",
       "      <td>526</td>\n",
       "      <td>1</td>\n",
       "    </tr>\n",
       "    <tr>\n",
       "      <th>over_85K</th>\n",
       "      <td>264</td>\n",
       "      <td>407</td>\n",
       "    </tr>\n",
       "  </tbody>\n",
       "</table>\n",
       "</div>"
      ],
      "text/plain": [
       "           predicted_under_85K  predicted_over_85K\n",
       "under_85K                  526                   1\n",
       "over_85K                   264                 407"
      ]
     },
     "execution_count": 136,
     "metadata": {},
     "output_type": "execute_result"
    }
   ],
   "source": [
    "''''This is interesting.  If you change the probability you can see how it would affect our confusion matrix.  If you \n",
    "move it all the way up to .99 (so the decision will be made with only 99% certainty you only get an additional \n",
    "77 more FP but no more FN.  '''\n",
    "\n",
    "ya_pp = pd.DataFrame(skills.predict_proba(Xa_test), columns=['under_85K_pp','over_85K_pp'])\n",
    "ya_pp['over_85K_high_thresh'] = [1 if x >= .99 else 0 for x in ya_pp.over_85K_pp.values]\n",
    "conmat_high = np.array(confusion_matrix(ya_test, ya_pp.over_85K_high_thresh.values))\n",
    "confusion_high = pd.DataFrame(conmat_high, index=['under_85K', 'over_85K'],\n",
    "                         columns=['predicted_under_85K','predicted_over_85K'])\n",
    "\n",
    "confusion_high"
   ]
  },
  {
   "cell_type": "code",
   "execution_count": 137,
   "metadata": {
    "collapsed": false
   },
   "outputs": [
    {
     "data": {
      "text/html": [
       "<div>\n",
       "<table border=\"1\" class=\"dataframe\">\n",
       "  <thead>\n",
       "    <tr style=\"text-align: right;\">\n",
       "      <th></th>\n",
       "      <th>under_85K_pp</th>\n",
       "      <th>over_85K_pp</th>\n",
       "      <th>over_85K_high_thresh</th>\n",
       "    </tr>\n",
       "  </thead>\n",
       "  <tbody>\n",
       "    <tr>\n",
       "      <th>0</th>\n",
       "      <td>0.685294</td>\n",
       "      <td>0.314706</td>\n",
       "      <td>0</td>\n",
       "    </tr>\n",
       "    <tr>\n",
       "      <th>1</th>\n",
       "      <td>0.002174</td>\n",
       "      <td>0.997826</td>\n",
       "      <td>1</td>\n",
       "    </tr>\n",
       "    <tr>\n",
       "      <th>2</th>\n",
       "      <td>0.949093</td>\n",
       "      <td>0.050907</td>\n",
       "      <td>0</td>\n",
       "    </tr>\n",
       "    <tr>\n",
       "      <th>3</th>\n",
       "      <td>0.685294</td>\n",
       "      <td>0.314706</td>\n",
       "      <td>0</td>\n",
       "    </tr>\n",
       "    <tr>\n",
       "      <th>4</th>\n",
       "      <td>0.685294</td>\n",
       "      <td>0.314706</td>\n",
       "      <td>0</td>\n",
       "    </tr>\n",
       "    <tr>\n",
       "      <th>5</th>\n",
       "      <td>0.007521</td>\n",
       "      <td>0.992479</td>\n",
       "      <td>1</td>\n",
       "    </tr>\n",
       "    <tr>\n",
       "      <th>6</th>\n",
       "      <td>0.007521</td>\n",
       "      <td>0.992479</td>\n",
       "      <td>1</td>\n",
       "    </tr>\n",
       "    <tr>\n",
       "      <th>7</th>\n",
       "      <td>0.011915</td>\n",
       "      <td>0.988085</td>\n",
       "      <td>0</td>\n",
       "    </tr>\n",
       "    <tr>\n",
       "      <th>8</th>\n",
       "      <td>0.685294</td>\n",
       "      <td>0.314706</td>\n",
       "      <td>0</td>\n",
       "    </tr>\n",
       "    <tr>\n",
       "      <th>9</th>\n",
       "      <td>0.011915</td>\n",
       "      <td>0.988085</td>\n",
       "      <td>0</td>\n",
       "    </tr>\n",
       "    <tr>\n",
       "      <th>10</th>\n",
       "      <td>0.005902</td>\n",
       "      <td>0.994098</td>\n",
       "      <td>1</td>\n",
       "    </tr>\n",
       "    <tr>\n",
       "      <th>11</th>\n",
       "      <td>0.949093</td>\n",
       "      <td>0.050907</td>\n",
       "      <td>0</td>\n",
       "    </tr>\n",
       "    <tr>\n",
       "      <th>12</th>\n",
       "      <td>0.011915</td>\n",
       "      <td>0.988085</td>\n",
       "      <td>0</td>\n",
       "    </tr>\n",
       "    <tr>\n",
       "      <th>13</th>\n",
       "      <td>0.002174</td>\n",
       "      <td>0.997826</td>\n",
       "      <td>1</td>\n",
       "    </tr>\n",
       "    <tr>\n",
       "      <th>14</th>\n",
       "      <td>0.007521</td>\n",
       "      <td>0.992479</td>\n",
       "      <td>1</td>\n",
       "    </tr>\n",
       "    <tr>\n",
       "      <th>15</th>\n",
       "      <td>0.685294</td>\n",
       "      <td>0.314706</td>\n",
       "      <td>0</td>\n",
       "    </tr>\n",
       "    <tr>\n",
       "      <th>16</th>\n",
       "      <td>0.949093</td>\n",
       "      <td>0.050907</td>\n",
       "      <td>0</td>\n",
       "    </tr>\n",
       "    <tr>\n",
       "      <th>17</th>\n",
       "      <td>0.685294</td>\n",
       "      <td>0.314706</td>\n",
       "      <td>0</td>\n",
       "    </tr>\n",
       "    <tr>\n",
       "      <th>18</th>\n",
       "      <td>0.007521</td>\n",
       "      <td>0.992479</td>\n",
       "      <td>1</td>\n",
       "    </tr>\n",
       "    <tr>\n",
       "      <th>19</th>\n",
       "      <td>0.630466</td>\n",
       "      <td>0.369534</td>\n",
       "      <td>0</td>\n",
       "    </tr>\n",
       "    <tr>\n",
       "      <th>20</th>\n",
       "      <td>0.685294</td>\n",
       "      <td>0.314706</td>\n",
       "      <td>0</td>\n",
       "    </tr>\n",
       "    <tr>\n",
       "      <th>21</th>\n",
       "      <td>0.685294</td>\n",
       "      <td>0.314706</td>\n",
       "      <td>0</td>\n",
       "    </tr>\n",
       "    <tr>\n",
       "      <th>22</th>\n",
       "      <td>0.007521</td>\n",
       "      <td>0.992479</td>\n",
       "      <td>1</td>\n",
       "    </tr>\n",
       "    <tr>\n",
       "      <th>23</th>\n",
       "      <td>0.949093</td>\n",
       "      <td>0.050907</td>\n",
       "      <td>0</td>\n",
       "    </tr>\n",
       "    <tr>\n",
       "      <th>24</th>\n",
       "      <td>0.011915</td>\n",
       "      <td>0.988085</td>\n",
       "      <td>0</td>\n",
       "    </tr>\n",
       "    <tr>\n",
       "      <th>25</th>\n",
       "      <td>0.685294</td>\n",
       "      <td>0.314706</td>\n",
       "      <td>0</td>\n",
       "    </tr>\n",
       "    <tr>\n",
       "      <th>26</th>\n",
       "      <td>0.685294</td>\n",
       "      <td>0.314706</td>\n",
       "      <td>0</td>\n",
       "    </tr>\n",
       "    <tr>\n",
       "      <th>27</th>\n",
       "      <td>0.685294</td>\n",
       "      <td>0.314706</td>\n",
       "      <td>0</td>\n",
       "    </tr>\n",
       "    <tr>\n",
       "      <th>28</th>\n",
       "      <td>0.685294</td>\n",
       "      <td>0.314706</td>\n",
       "      <td>0</td>\n",
       "    </tr>\n",
       "    <tr>\n",
       "      <th>29</th>\n",
       "      <td>0.011915</td>\n",
       "      <td>0.988085</td>\n",
       "      <td>0</td>\n",
       "    </tr>\n",
       "    <tr>\n",
       "      <th>...</th>\n",
       "      <td>...</td>\n",
       "      <td>...</td>\n",
       "      <td>...</td>\n",
       "    </tr>\n",
       "    <tr>\n",
       "      <th>1168</th>\n",
       "      <td>0.835145</td>\n",
       "      <td>0.164855</td>\n",
       "      <td>0</td>\n",
       "    </tr>\n",
       "    <tr>\n",
       "      <th>1169</th>\n",
       "      <td>0.007521</td>\n",
       "      <td>0.992479</td>\n",
       "      <td>1</td>\n",
       "    </tr>\n",
       "    <tr>\n",
       "      <th>1170</th>\n",
       "      <td>0.685294</td>\n",
       "      <td>0.314706</td>\n",
       "      <td>0</td>\n",
       "    </tr>\n",
       "    <tr>\n",
       "      <th>1171</th>\n",
       "      <td>0.685294</td>\n",
       "      <td>0.314706</td>\n",
       "      <td>0</td>\n",
       "    </tr>\n",
       "    <tr>\n",
       "      <th>1172</th>\n",
       "      <td>0.007521</td>\n",
       "      <td>0.992479</td>\n",
       "      <td>1</td>\n",
       "    </tr>\n",
       "    <tr>\n",
       "      <th>1173</th>\n",
       "      <td>0.005902</td>\n",
       "      <td>0.994098</td>\n",
       "      <td>1</td>\n",
       "    </tr>\n",
       "    <tr>\n",
       "      <th>1174</th>\n",
       "      <td>0.685294</td>\n",
       "      <td>0.314706</td>\n",
       "      <td>0</td>\n",
       "    </tr>\n",
       "    <tr>\n",
       "      <th>1175</th>\n",
       "      <td>0.002174</td>\n",
       "      <td>0.997826</td>\n",
       "      <td>1</td>\n",
       "    </tr>\n",
       "    <tr>\n",
       "      <th>1176</th>\n",
       "      <td>0.685294</td>\n",
       "      <td>0.314706</td>\n",
       "      <td>0</td>\n",
       "    </tr>\n",
       "    <tr>\n",
       "      <th>1177</th>\n",
       "      <td>0.007521</td>\n",
       "      <td>0.992479</td>\n",
       "      <td>1</td>\n",
       "    </tr>\n",
       "    <tr>\n",
       "      <th>1178</th>\n",
       "      <td>0.685294</td>\n",
       "      <td>0.314706</td>\n",
       "      <td>0</td>\n",
       "    </tr>\n",
       "    <tr>\n",
       "      <th>1179</th>\n",
       "      <td>0.685294</td>\n",
       "      <td>0.314706</td>\n",
       "      <td>0</td>\n",
       "    </tr>\n",
       "    <tr>\n",
       "      <th>1180</th>\n",
       "      <td>0.685294</td>\n",
       "      <td>0.314706</td>\n",
       "      <td>0</td>\n",
       "    </tr>\n",
       "    <tr>\n",
       "      <th>1181</th>\n",
       "      <td>0.002174</td>\n",
       "      <td>0.997826</td>\n",
       "      <td>1</td>\n",
       "    </tr>\n",
       "    <tr>\n",
       "      <th>1182</th>\n",
       "      <td>0.685294</td>\n",
       "      <td>0.314706</td>\n",
       "      <td>0</td>\n",
       "    </tr>\n",
       "    <tr>\n",
       "      <th>1183</th>\n",
       "      <td>0.685294</td>\n",
       "      <td>0.314706</td>\n",
       "      <td>0</td>\n",
       "    </tr>\n",
       "    <tr>\n",
       "      <th>1184</th>\n",
       "      <td>0.685294</td>\n",
       "      <td>0.314706</td>\n",
       "      <td>0</td>\n",
       "    </tr>\n",
       "    <tr>\n",
       "      <th>1185</th>\n",
       "      <td>0.002174</td>\n",
       "      <td>0.997826</td>\n",
       "      <td>1</td>\n",
       "    </tr>\n",
       "    <tr>\n",
       "      <th>1186</th>\n",
       "      <td>0.685294</td>\n",
       "      <td>0.314706</td>\n",
       "      <td>0</td>\n",
       "    </tr>\n",
       "    <tr>\n",
       "      <th>1187</th>\n",
       "      <td>0.685294</td>\n",
       "      <td>0.314706</td>\n",
       "      <td>0</td>\n",
       "    </tr>\n",
       "    <tr>\n",
       "      <th>1188</th>\n",
       "      <td>0.685294</td>\n",
       "      <td>0.314706</td>\n",
       "      <td>0</td>\n",
       "    </tr>\n",
       "    <tr>\n",
       "      <th>1189</th>\n",
       "      <td>0.001626</td>\n",
       "      <td>0.998374</td>\n",
       "      <td>1</td>\n",
       "    </tr>\n",
       "    <tr>\n",
       "      <th>1190</th>\n",
       "      <td>0.011915</td>\n",
       "      <td>0.988085</td>\n",
       "      <td>0</td>\n",
       "    </tr>\n",
       "    <tr>\n",
       "      <th>1191</th>\n",
       "      <td>0.007521</td>\n",
       "      <td>0.992479</td>\n",
       "      <td>1</td>\n",
       "    </tr>\n",
       "    <tr>\n",
       "      <th>1192</th>\n",
       "      <td>0.949093</td>\n",
       "      <td>0.050907</td>\n",
       "      <td>0</td>\n",
       "    </tr>\n",
       "    <tr>\n",
       "      <th>1193</th>\n",
       "      <td>0.685294</td>\n",
       "      <td>0.314706</td>\n",
       "      <td>0</td>\n",
       "    </tr>\n",
       "    <tr>\n",
       "      <th>1194</th>\n",
       "      <td>0.002174</td>\n",
       "      <td>0.997826</td>\n",
       "      <td>1</td>\n",
       "    </tr>\n",
       "    <tr>\n",
       "      <th>1195</th>\n",
       "      <td>0.835145</td>\n",
       "      <td>0.164855</td>\n",
       "      <td>0</td>\n",
       "    </tr>\n",
       "    <tr>\n",
       "      <th>1196</th>\n",
       "      <td>0.685294</td>\n",
       "      <td>0.314706</td>\n",
       "      <td>0</td>\n",
       "    </tr>\n",
       "    <tr>\n",
       "      <th>1197</th>\n",
       "      <td>0.001626</td>\n",
       "      <td>0.998374</td>\n",
       "      <td>1</td>\n",
       "    </tr>\n",
       "  </tbody>\n",
       "</table>\n",
       "<p>1198 rows × 3 columns</p>\n",
       "</div>"
      ],
      "text/plain": [
       "      under_85K_pp  over_85K_pp  over_85K_high_thresh\n",
       "0         0.685294     0.314706                     0\n",
       "1         0.002174     0.997826                     1\n",
       "2         0.949093     0.050907                     0\n",
       "3         0.685294     0.314706                     0\n",
       "4         0.685294     0.314706                     0\n",
       "5         0.007521     0.992479                     1\n",
       "6         0.007521     0.992479                     1\n",
       "7         0.011915     0.988085                     0\n",
       "8         0.685294     0.314706                     0\n",
       "9         0.011915     0.988085                     0\n",
       "10        0.005902     0.994098                     1\n",
       "11        0.949093     0.050907                     0\n",
       "12        0.011915     0.988085                     0\n",
       "13        0.002174     0.997826                     1\n",
       "14        0.007521     0.992479                     1\n",
       "15        0.685294     0.314706                     0\n",
       "16        0.949093     0.050907                     0\n",
       "17        0.685294     0.314706                     0\n",
       "18        0.007521     0.992479                     1\n",
       "19        0.630466     0.369534                     0\n",
       "20        0.685294     0.314706                     0\n",
       "21        0.685294     0.314706                     0\n",
       "22        0.007521     0.992479                     1\n",
       "23        0.949093     0.050907                     0\n",
       "24        0.011915     0.988085                     0\n",
       "25        0.685294     0.314706                     0\n",
       "26        0.685294     0.314706                     0\n",
       "27        0.685294     0.314706                     0\n",
       "28        0.685294     0.314706                     0\n",
       "29        0.011915     0.988085                     0\n",
       "...            ...          ...                   ...\n",
       "1168      0.835145     0.164855                     0\n",
       "1169      0.007521     0.992479                     1\n",
       "1170      0.685294     0.314706                     0\n",
       "1171      0.685294     0.314706                     0\n",
       "1172      0.007521     0.992479                     1\n",
       "1173      0.005902     0.994098                     1\n",
       "1174      0.685294     0.314706                     0\n",
       "1175      0.002174     0.997826                     1\n",
       "1176      0.685294     0.314706                     0\n",
       "1177      0.007521     0.992479                     1\n",
       "1178      0.685294     0.314706                     0\n",
       "1179      0.685294     0.314706                     0\n",
       "1180      0.685294     0.314706                     0\n",
       "1181      0.002174     0.997826                     1\n",
       "1182      0.685294     0.314706                     0\n",
       "1183      0.685294     0.314706                     0\n",
       "1184      0.685294     0.314706                     0\n",
       "1185      0.002174     0.997826                     1\n",
       "1186      0.685294     0.314706                     0\n",
       "1187      0.685294     0.314706                     0\n",
       "1188      0.685294     0.314706                     0\n",
       "1189      0.001626     0.998374                     1\n",
       "1190      0.011915     0.988085                     0\n",
       "1191      0.007521     0.992479                     1\n",
       "1192      0.949093     0.050907                     0\n",
       "1193      0.685294     0.314706                     0\n",
       "1194      0.002174     0.997826                     1\n",
       "1195      0.835145     0.164855                     0\n",
       "1196      0.685294     0.314706                     0\n",
       "1197      0.001626     0.998374                     1\n",
       "\n",
       "[1198 rows x 3 columns]"
      ]
     },
     "execution_count": 137,
     "metadata": {},
     "output_type": "execute_result"
    }
   ],
   "source": [
    "ya_pp"
   ]
  },
  {
   "cell_type": "code",
   "execution_count": 138,
   "metadata": {
    "collapsed": false
   },
   "outputs": [],
   "source": [
    "# We have a pretty good ROC AUC score here.  This is the area under the curve.  It's nearly 89%.\n",
    "\n",
    "ya_score = skills.decision_function(Xa_test)"
   ]
  },
  {
   "cell_type": "code",
   "execution_count": 139,
   "metadata": {
    "collapsed": false
   },
   "outputs": [],
   "source": [
    "classifier = svm.SVC(kernel='linear', C=0.01)\n",
    "ya_pred = classifier.fit(Xa_train, ya_train).predict(Xa_test)"
   ]
  },
  {
   "cell_type": "code",
   "execution_count": 140,
   "metadata": {
    "collapsed": false,
    "scrolled": true
   },
   "outputs": [
    {
     "data": {
      "image/png": "[encoded data removed]",
      "text/plain": [
       "<matplotlib.figure.Figure at 0x1184953d0>"
      ]
     },
     "metadata": {},
     "output_type": "display_data"
    }
   ],
   "source": [
    "# Let's have a look at our ROC curve.  It looks pretty cool if you ask me.  \n",
    "\n",
    "plot_roc(ya_test, ya_score)\n",
    "plt.show()"
   ]
  },
  {
   "cell_type": "code",
   "execution_count": 141,
   "metadata": {
    "collapsed": false
   },
   "outputs": [
    {
     "data": {
      "text/plain": [
       "0.88986530624941673"
      ]
     },
     "execution_count": 141,
     "metadata": {},
     "output_type": "execute_result"
    }
   ],
   "source": [
    "roc_auc_score = roc_auc_score(ya_test, ya_score)\n",
    "roc_auc_score"
   ]
  },
  {
   "cell_type": "code",
   "execution_count": 142,
   "metadata": {
    "collapsed": false
   },
   "outputs": [
    {
     "name": "stdout",
     "output_type": "stream",
     "text": [
      "[[ 1.         -0.32732684 -0.16666667 ...,  0.375       1.         -0.25      ]\n",
      " [-0.32732684  1.          0.50917508 ..., -0.32732684 -0.32732684\n",
      "   0.21821789]\n",
      " [-0.16666667  0.50917508  1.         ..., -0.16666667 -0.16666667\n",
      "  -0.16666667]\n",
      " ..., \n",
      " [ 0.375      -0.32732684 -0.16666667 ...,  1.          0.375      -0.25      ]\n",
      " [ 1.         -0.32732684 -0.16666667 ...,  0.375       1.         -0.25      ]\n",
      " [-0.25        0.21821789 -0.16666667 ..., -0.25       -0.25        1.        ]]\n"
     ]
    }
   ],
   "source": [
    "# Unfortunately we are still pretty bad at interpreting coefficients so we will save that for Project 5!\n",
    "\n",
    "print np.corrcoef(Xa_test)"
   ]
  },
  {
   "cell_type": "code",
   "execution_count": 143,
   "metadata": {
    "collapsed": false
   },
   "outputs": [
    {
     "name": "stdout",
     "output_type": "stream",
     "text": [
      "             precision    recall  f1-score   support\n",
      "\n",
      "  below 85K       0.74      1.00      0.85       527\n",
      "  above 85K       1.00      0.72      0.84       671\n",
      "\n",
      "avg / total       0.88      0.84      0.84      1198\n",
      "\n"
     ]
    }
   ],
   "source": [
    "# Here is a classification report.\n",
    "\n",
    "target_names = ['below 85K', 'above 85K']\n",
    "print classification_report(ya_test, ya_pred, target_names = target_names)"
   ]
  },
  {
   "cell_type": "code",
   "execution_count": 144,
   "metadata": {
    "collapsed": false
   },
   "outputs": [
    {
     "name": "stdout",
     "output_type": "stream",
     "text": [
      "GridSearchCV(cv=None, error_score='raise',\n",
      "       estimator=Ridge(alpha=1.0, copy_X=True, fit_intercept=True, max_iter=None,\n",
      "   normalize=False, random_state=None, solver='auto', tol=0.001),\n",
      "       fit_params={}, iid=True, n_jobs=1,\n",
      "       param_grid={'alpha': array([  1.00000e+00,   1.00000e-01,   1.00000e-02,   1.00000e-03,\n",
      "         1.00000e-04,   0.00000e+00])},\n",
      "       pre_dispatch='2*n_jobs', refit=True, scoring=None, verbose=0)\n"
     ]
    }
   ],
   "source": [
    "# grid search and ridge regularization.  Probably still need help in intrepreting what I'm doing here.\n",
    "\n",
    "alphas = np.array([1,0.1,0.01,0.001,0.0001,0])\n",
    "model = Ridge()\n",
    "skills_grid = GridSearchCV(estimator=model, param_grid=dict(alpha=alphas))\n",
    "skills_grid.fit(Xa, ya)\n",
    "print skills_grid"
   ]
  },
  {
   "cell_type": "code",
   "execution_count": 145,
   "metadata": {
    "collapsed": false
   },
   "outputs": [
    {
     "name": "stdout",
     "output_type": "stream",
     "text": [
      "0.283785172824\n",
      "Ridge(alpha=1.0, copy_X=True, fit_intercept=True, max_iter=None,\n",
      "   normalize=False, random_state=None, solver='auto', tol=0.001)\n"
     ]
    }
   ],
   "source": [
    "#Summarize the Results of the Grid Search\n",
    "\n",
    "print skills_grid.best_score_\n",
    "print skills_grid.best_estimator_"
   ]
  },
  {
   "cell_type": "markdown",
   "metadata": {},
   "source": [
    "# <center>Model No. 5 --kNN (k Nearest Neighbor)</center>"
   ]
  },
  {
   "cell_type": "raw",
   "metadata": {},
   "source": [
    "We will try one more model--a kNN (k nearest neighbor).  You can see from the score at the bottom that it was not quite as accurate or precise as Model No. 4."
   ]
  },
  {
   "cell_type": "code",
   "execution_count": 146,
   "metadata": {
    "collapsed": true
   },
   "outputs": [],
   "source": [
    "from sklearn import datasets, neighbors, metrics\n",
    "import pandas as pd"
   ]
  },
  {
   "cell_type": "code",
   "execution_count": 147,
   "metadata": {
    "collapsed": true
   },
   "outputs": [],
   "source": [
    "Xss_train, Xss_test, Yss_train, Yss_test = train_test_split(Xs, Ys, test_size=0.33, stratify = Ys, random_state = 7)"
   ]
  },
  {
   "cell_type": "code",
   "execution_count": 148,
   "metadata": {
    "collapsed": false
   },
   "outputs": [
    {
     "name": "stdout",
     "output_type": "stream",
     "text": [
      "[0 1 0 ..., 0 0 0]\n",
      "0.839342188488\n"
     ]
    }
   ],
   "source": [
    "knn = neighbors.KNeighborsClassifier(n_neighbors=5, weights='uniform')\n",
    "knn.fit(Xss_train, Yss_train)\n",
    "\n",
    "print knn.predict(Xss_test)\n",
    "print knn.score(Xss_test, Yss_test)"
   ]
  }
 ],
 "metadata": {
  "anaconda-cloud": {},
  "kernelspec": {
   "display_name": "Python [default]",
   "language": "python",
   "name": "python2"
  },
  "language_info": {
   "codemirror_mode": {
    "name": "ipython",
    "version": 2
   },
   "file_extension": ".py",
   "mimetype": "text/x-python",
   "name": "python",
   "nbconvert_exporter": "python",
   "pygments_lexer": "ipython2",
   "version": "2.7.12"
  }
 },
 "nbformat": 4,
 "nbformat_minor": 0
}
