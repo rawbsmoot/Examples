{
 "cells": [
  {
   "cell_type": "markdown",
   "metadata": {},
   "source": [
    "# <center>Predict Movie Rating from IMDB user reviews using NLP"
   ]
  },
  {
   "cell_type": "raw",
   "metadata": {},
   "source": [
    "This notebook picks up after we scraped a random* set of movie reviews from IMDB's website that we felt represented the population of movies as a whole.  Once we obtained the data we  put it in a local database for storing.  We will begin here by pulling our scraped data set into our notebook.  The data set contains: summary reviews (summary_review), summaries of reviews written by IMDB users; review scores (review_score), the score each reviewer gave the reviewed film; and movie score (movie_score), the overall average rating from each individual's review score.  We have a total of 79 titles in 12 different genres.  In total this gave us 11,038 individual reviews.  The everage review score given was 7.05 and the average movie score is 6.97.  The average of review scores and of the overall movie scores are nearly eqaul as we would expect.  The minimum review score was 1.0 and the maximum was 10.0.  The minimum movie score was 1.2 and the maximum was 10.0.  Movie scores have a lower standard deviation than review scores indicating that the distribution of movie scores is more consistent and has less variability than the review scores.  These summary-type statistics can be seen below.  \n",
    "*Random might not be the best description of our data selection.  I'll attempt to explain: We selected 10 movies from 12 different genres.  Each movie was selected by it's movie score 1-10.  That is to say we selected one drama with a movie score of 1, 2, 3 and so forth up to 10 == 10 films per genre.  These movies were selected at random.  "
   ]
  },
  {
   "cell_type": "code",
   "execution_count": 3,
   "metadata": {
    "collapsed": false
   },
   "outputs": [],
   "source": [
    "import os\n",
    "import subprocess\n",
    "import pandas as pd\n",
    "import numpy as np\n",
    "from sklearn.ensemble import RandomForestClassifier\n",
    "from sklearn.ensemble import RandomForestRegressor\n",
    "import scipy\n",
    "import requests\n",
    "import nltk\n",
    "import matplotlib.pyplot as plt\n",
    "import urllib\n",
    "from bs4 import BeautifulSoup\n",
    "import nltk\n",
    "import collections\n",
    "import re\n",
    "import csv\n",
    "import selenium\n",
    "import psycopg2\n",
    "%matplotlib inline"
   ]
  },
  {
   "cell_type": "code",
   "execution_count": 25,
   "metadata": {
    "collapsed": true
   },
   "outputs": [],
   "source": [
    "imdb = Imdb()\n",
    "imdb = Imdb(anonymize=True)"
   ]
  },
  {
   "cell_type": "code",
   "execution_count": 24,
   "metadata": {
    "collapsed": false
   },
   "outputs": [
    {
     "data": {
      "text/html": [
       "<div>\n",
       "<table border=\"1\" class=\"dataframe\">\n",
       "  <thead>\n",
       "    <tr style=\"text-align: right;\">\n",
       "      <th></th>\n",
       "      <th>title</th>\n",
       "      <th>summary_review</th>\n",
       "      <th>review_score</th>\n",
       "      <th>movie_score</th>\n",
       "      <th>genre</th>\n",
       "    </tr>\n",
       "    <tr>\n",
       "      <th>index</th>\n",
       "      <th></th>\n",
       "      <th></th>\n",
       "      <th></th>\n",
       "      <th></th>\n",
       "      <th></th>\n",
       "    </tr>\n",
       "  </thead>\n",
       "  <tbody>\n",
       "    <tr>\n",
       "      <th>0</th>\n",
       "      <td>Raptor Ranch</td>\n",
       "      <td>really not good</td>\n",
       "      <td>2.0</td>\n",
       "      <td>3.1</td>\n",
       "      <td>Action</td>\n",
       "    </tr>\n",
       "    <tr>\n",
       "      <th>1</th>\n",
       "      <td>Raptor Ranch</td>\n",
       "      <td>you 're better off stay well clear from this r...</td>\n",
       "      <td>1.0</td>\n",
       "      <td>3.1</td>\n",
       "      <td>Action</td>\n",
       "    </tr>\n",
       "  </tbody>\n",
       "</table>\n",
       "</div>"
      ],
      "text/plain": [
       "              title                                     summary_review  \\\n",
       "index                                                                    \n",
       "0      Raptor Ranch                                   really not good    \n",
       "1      Raptor Ranch  you 're better off stay well clear from this r...   \n",
       "\n",
       "       review_score  movie_score   genre  \n",
       "index                                     \n",
       "0               2.0          3.1  Action  \n",
       "1               1.0          3.1  Action  "
      ]
     },
     "execution_count": 24,
     "metadata": {},
     "output_type": "execute_result"
    }
   ],
   "source": [
    "local_engine = create_engine('postgresql://smoot@localhost:5432/IMDB')\n",
    "df = pd.read_sql('SELECT * FROM summary', local_engine, index_col = 'index')\n",
    "tt = pd.read_sql('SELECT * FROM top25', local_engine)\n",
    "del df['location']\n",
    "df.head(2)"
   ]
  },
  {
   "cell_type": "code",
   "execution_count": 21,
   "metadata": {
    "collapsed": false
   },
   "outputs": [],
   "source": [
    "df['tconst'] = tt['tconst']"
   ]
  },
  {
   "cell_type": "code",
   "execution_count": 28,
   "metadata": {
    "collapsed": false
   },
   "outputs": [
    {
     "ename": "NameError",
     "evalue": "name 'numid' is not defined",
     "output_type": "error",
     "traceback": [
      "\u001b[0;31m---------------------------------------------------------------------------\u001b[0m",
      "\u001b[0;31mNameError\u001b[0m                                 Traceback (most recent call last)",
      "\u001b[0;32m<ipython-input-28-0d8238cc8e5a>\u001b[0m in \u001b[0;36m<module>\u001b[0;34m()\u001b[0m\n\u001b[0;32m----> 1\u001b[0;31m \u001b[0;32mfor\u001b[0m \u001b[0mx\u001b[0m \u001b[0;32min\u001b[0m \u001b[0;34m(\u001b[0m\u001b[0mnumid\u001b[0m\u001b[0;34m)\u001b[0m\u001b[0;34m:\u001b[0m\u001b[0;34m\u001b[0m\u001b[0m\n\u001b[0m\u001b[1;32m      2\u001b[0m     \u001b[0maddress\u001b[0m \u001b[0;34m=\u001b[0m \u001b[0;34m(\u001b[0m\u001b[0;34m'http://www.imdb.com/title/'\u001b[0m \u001b[0;34m+\u001b[0m \u001b[0mx\u001b[0m \u001b[0;34m+\u001b[0m \u001b[0;34m'/reviews'\u001b[0m\u001b[0;34m)\u001b[0m\u001b[0;34m\u001b[0m\u001b[0m\n\u001b[1;32m      3\u001b[0m     \u001b[0mhtml\u001b[0m \u001b[0;34m=\u001b[0m \u001b[0mrequests\u001b[0m\u001b[0;34m.\u001b[0m\u001b[0mget\u001b[0m\u001b[0;34m(\u001b[0m\u001b[0maddress\u001b[0m\u001b[0;34m)\u001b[0m\u001b[0;34m.\u001b[0m\u001b[0mtext\u001b[0m\u001b[0;34m\u001b[0m\u001b[0m\n\u001b[1;32m      4\u001b[0m     \u001b[0msoup\u001b[0m \u001b[0;34m=\u001b[0m \u001b[0mBeautifulSoup\u001b[0m\u001b[0;34m(\u001b[0m\u001b[0mhtml\u001b[0m\u001b[0;34m,\u001b[0m \u001b[0;34m'html.parser'\u001b[0m\u001b[0;34m)\u001b[0m\u001b[0;34m\u001b[0m\u001b[0m\n",
      "\u001b[0;31mNameError\u001b[0m: name 'numid' is not defined"
     ]
    }
   ],
   "source": [
    "for x in ():\n",
    "    address = ('http://www.imdb.com/title/' + x + '/reviews')\n",
    "    html = requests.get(address).text\n",
    "    soup = BeautifulSoup(html, 'html.parser')"
   ]
  },
  {
   "cell_type": "code",
   "execution_count": 27,
   "metadata": {
    "collapsed": false
   },
   "outputs": [
    {
     "ename": "HTTPError",
     "evalue": "400 Client Error: Bad Request for url: http://openwebproxy.pw/browse.php?u=https%3A//app.imdb.com/title/maindetails%3FapiKey%3Dd2bb34ec6f6d4ef3703c9b0c36c4791ef8b9ca9b%26apiPolicy%3Dapp1_1%26locale%3Den_US%26timestamp%3D1468825200.0%26tconst%3DRaptor%2BRanch%26api%3Dv1%26appid%3Diphone1_1",
     "output_type": "error",
     "traceback": [
      "\u001b[0;31m---------------------------------------------------------------------------\u001b[0m",
      "\u001b[0;31mHTTPError\u001b[0m                                 Traceback (most recent call last)",
      "\u001b[0;32m<ipython-input-27-874b2565c7d9>\u001b[0m in \u001b[0;36m<module>\u001b[0;34m()\u001b[0m\n\u001b[1;32m      4\u001b[0m \u001b[0;34m\u001b[0m\u001b[0m\n\u001b[1;32m      5\u001b[0m \u001b[0;32mfor\u001b[0m \u001b[0mi\u001b[0m \u001b[0;32min\u001b[0m \u001b[0mdf\u001b[0m\u001b[0;34m[\u001b[0m\u001b[0;34m'title'\u001b[0m\u001b[0;34m]\u001b[0m\u001b[0;34m:\u001b[0m\u001b[0;34m\u001b[0m\u001b[0m\n\u001b[0;32m----> 6\u001b[0;31m     \u001b[0mtitle5\u001b[0m \u001b[0;34m=\u001b[0m \u001b[0mimdb\u001b[0m\u001b[0;34m.\u001b[0m\u001b[0mget_title_by_id\u001b[0m\u001b[0;34m(\u001b[0m\u001b[0mi\u001b[0m\u001b[0;34m)\u001b[0m\u001b[0;34m\u001b[0m\u001b[0m\n\u001b[0m\u001b[1;32m      7\u001b[0m     \u001b[0;31m# delay API call to avoid timing out\u001b[0m\u001b[0;34m\u001b[0m\u001b[0;34m\u001b[0m\u001b[0m\n\u001b[1;32m      8\u001b[0m     \u001b[0mtime\u001b[0m\u001b[0;34m.\u001b[0m\u001b[0msleep\u001b[0m\u001b[0;34m(\u001b[0m\u001b[0mrandom\u001b[0m\u001b[0;34m.\u001b[0m\u001b[0mrandom\u001b[0m\u001b[0;34m(\u001b[0m\u001b[0;34m)\u001b[0m\u001b[0;34m)\u001b[0m\u001b[0;34m\u001b[0m\u001b[0m\n",
      "\u001b[0;32m/Users/smoot/anaconda/lib/python2.7/site-packages/imdbpie/imdbpie.pyc\u001b[0m in \u001b[0;36mget_title_by_id\u001b[0;34m(self, imdb_id)\u001b[0m\n\u001b[1;32m     56\u001b[0m     \u001b[0;32mdef\u001b[0m \u001b[0mget_title_by_id\u001b[0m\u001b[0;34m(\u001b[0m\u001b[0mself\u001b[0m\u001b[0;34m,\u001b[0m \u001b[0mimdb_id\u001b[0m\u001b[0;34m)\u001b[0m\u001b[0;34m:\u001b[0m\u001b[0;34m\u001b[0m\u001b[0m\n\u001b[1;32m     57\u001b[0m         \u001b[0murl\u001b[0m \u001b[0;34m=\u001b[0m \u001b[0mself\u001b[0m\u001b[0;34m.\u001b[0m\u001b[0m_build_url\u001b[0m\u001b[0;34m(\u001b[0m\u001b[0;34m'/title/maindetails'\u001b[0m\u001b[0;34m,\u001b[0m \u001b[0;34m{\u001b[0m\u001b[0;34m'tconst'\u001b[0m\u001b[0;34m:\u001b[0m \u001b[0mimdb_id\u001b[0m\u001b[0;34m}\u001b[0m\u001b[0;34m)\u001b[0m\u001b[0;34m\u001b[0m\u001b[0m\n\u001b[0;32m---> 58\u001b[0;31m         \u001b[0mresponse\u001b[0m \u001b[0;34m=\u001b[0m \u001b[0mself\u001b[0m\u001b[0;34m.\u001b[0m\u001b[0m_get\u001b[0m\u001b[0;34m(\u001b[0m\u001b[0murl\u001b[0m\u001b[0;34m)\u001b[0m\u001b[0;34m\u001b[0m\u001b[0m\n\u001b[0m\u001b[1;32m     59\u001b[0m \u001b[0;34m\u001b[0m\u001b[0m\n\u001b[1;32m     60\u001b[0m         \u001b[0;32mif\u001b[0m \u001b[0mresponse\u001b[0m \u001b[0;32mis\u001b[0m \u001b[0mNone\u001b[0m \u001b[0;32mor\u001b[0m \u001b[0mself\u001b[0m\u001b[0;34m.\u001b[0m\u001b[0m_is_redirection_result\u001b[0m\u001b[0;34m(\u001b[0m\u001b[0mresponse\u001b[0m\u001b[0;34m)\u001b[0m\u001b[0;34m:\u001b[0m\u001b[0;34m\u001b[0m\u001b[0m\n",
      "\u001b[0;32m/Users/smoot/anaconda/lib/python2.7/site-packages/imdbpie/imdbpie.pyc\u001b[0m in \u001b[0;36m_get\u001b[0;34m(self, url)\u001b[0m\n\u001b[1;32m    250\u001b[0m             verify=self.verify_ssl)\n\u001b[1;32m    251\u001b[0m \u001b[0;34m\u001b[0m\u001b[0m\n\u001b[0;32m--> 252\u001b[0;31m         \u001b[0mresp\u001b[0m\u001b[0;34m.\u001b[0m\u001b[0mraise_for_status\u001b[0m\u001b[0;34m(\u001b[0m\u001b[0;34m)\u001b[0m\u001b[0;34m\u001b[0m\u001b[0m\n\u001b[0m\u001b[1;32m    253\u001b[0m \u001b[0;34m\u001b[0m\u001b[0m\n\u001b[1;32m    254\u001b[0m         \u001b[0mresp_dict\u001b[0m \u001b[0;34m=\u001b[0m \u001b[0mjson\u001b[0m\u001b[0;34m.\u001b[0m\u001b[0mloads\u001b[0m\u001b[0;34m(\u001b[0m\u001b[0mresp\u001b[0m\u001b[0;34m.\u001b[0m\u001b[0mcontent\u001b[0m\u001b[0;34m.\u001b[0m\u001b[0mdecode\u001b[0m\u001b[0;34m(\u001b[0m\u001b[0;34m'utf-8'\u001b[0m\u001b[0;34m)\u001b[0m\u001b[0;34m)\u001b[0m\u001b[0;34m\u001b[0m\u001b[0m\n",
      "\u001b[0;32m/Users/smoot/anaconda/lib/python2.7/site-packages/requests/models.pyc\u001b[0m in \u001b[0;36mraise_for_status\u001b[0;34m(self)\u001b[0m\n\u001b[1;32m    842\u001b[0m \u001b[0;34m\u001b[0m\u001b[0m\n\u001b[1;32m    843\u001b[0m         \u001b[0;32mif\u001b[0m \u001b[0mhttp_error_msg\u001b[0m\u001b[0;34m:\u001b[0m\u001b[0;34m\u001b[0m\u001b[0m\n\u001b[0;32m--> 844\u001b[0;31m             \u001b[0;32mraise\u001b[0m \u001b[0mHTTPError\u001b[0m\u001b[0;34m(\u001b[0m\u001b[0mhttp_error_msg\u001b[0m\u001b[0;34m,\u001b[0m \u001b[0mresponse\u001b[0m\u001b[0;34m=\u001b[0m\u001b[0mself\u001b[0m\u001b[0;34m)\u001b[0m\u001b[0;34m\u001b[0m\u001b[0m\n\u001b[0m\u001b[1;32m    845\u001b[0m \u001b[0;34m\u001b[0m\u001b[0m\n\u001b[1;32m    846\u001b[0m     \u001b[0;32mdef\u001b[0m \u001b[0mclose\u001b[0m\u001b[0;34m(\u001b[0m\u001b[0mself\u001b[0m\u001b[0;34m)\u001b[0m\u001b[0;34m:\u001b[0m\u001b[0;34m\u001b[0m\u001b[0m\n",
      "\u001b[0;31mHTTPError\u001b[0m: 400 Client Error: Bad Request for url: http://openwebproxy.pw/browse.php?u=https%3A//app.imdb.com/title/maindetails%3FapiKey%3Dd2bb34ec6f6d4ef3703c9b0c36c4791ef8b9ca9b%26apiPolicy%3Dapp1_1%26locale%3Den_US%26timestamp%3D1468825200.0%26tconst%3DRaptor%2BRanch%26api%3Dv1%26appid%3Diphone1_1"
     ]
    }
   ],
   "source": [
    "# This if from John's solution code.  Need's the movie title's list to work\n",
    "\n",
    "reviewList = []\n",
    "\n",
    "for i in df['title']:\n",
    "    title5 = imdb.get_title_by_id(i)\n",
    "    # delay API call to avoid timing out\n",
    "    time.sleep(random.random())\n",
    "    user2 = imdb.get_title_reviews(i, max_results = 200)\n",
    "    for user in user2:\n",
    "        reviewList.append((title5.title, user.user_location, user.summary, user.rating, title5.rating, title5.genres[0]))\n",
    "\n",
    "\n",
    "\n",
    "movie_dict = dict()\n",
    "for x in (reviewList):\n",
    "    address = ('http://www.imdb.com/title/' + x + '/reviews')\n",
    "    html = requests.get(address).text\n",
    "    soup = BeautifulSoup(html, \"html.parser\")\n",
    "    title = soup.find(\"title\")\n",
    "    page = soup.find_all('p')\n",
    "    foo = str(page)\n",
    "    regex = re.compile('[^a-zA-Z]')\n",
    "    new = regex.sub(' ', foo)\n",
    "    tokens = nltk.word_tokenize(new)\n",
    "    counter = collections.Counter(tokens)\n",
    "    movie = counter.most_common()\n",
    "    test2 = pd.DataFrame(movie)\n",
    "    test2.columns = ['word', 'rank']\n",
    "    words = ('best', 'hope', 'love', 'beautiful', 'great')\n",
    "    test3 = test2.loc[test2['word'].isin(words)]\n",
    "    movie_dict[title] = test3"
   ]
  },
  {
   "cell_type": "code",
   "execution_count": 60,
   "metadata": {
    "collapsed": false,
    "scrolled": true
   },
   "outputs": [
    {
     "name": "stdout",
     "output_type": "stream",
     "text": [
      "(11038, 5)\n",
      "       review_score   movie_score\n",
      "count  11038.000000  11038.000000\n",
      "mean       7.046883      6.966724\n",
      "std        3.280443      2.500356\n",
      "min        1.000000      1.200000\n",
      "25%        5.000000      5.200000\n",
      "50%        8.600000      8.500000\n",
      "75%       10.000000      8.800000\n",
      "max       10.000000     10.000000\n",
      "[u'Action' u'Crime' u'Drama' u'Comedy' u'Adventure' u'Horror' u'Animation'\n",
      " u'Family' u'Fantasy' u'Documentary' u'Biography' u'Western']\n"
     ]
    },
    {
     "data": {
      "text/plain": [
       "array([u'Raptor Ranch', u'Gunday', u\"Independents' Day\",\n",
       "       u'Spy Kids 3-D: Game Over', u'12 Angry Men', u'Carnage Park',\n",
       "       u\"The Huntsman: Winter's War\",\n",
       "       u'Batman v Superman: Dawn of Justice', u'Deadpool',\n",
       "       u'The Dark Knight', u'Fight Club', u'The Matrix',\n",
       "       u'The Chaos Class', u'Toni Erdmann', u'The Grand Budapest Hotel',\n",
       "       u'American Pie', u'X-Men', u'12/12/12',\n",
       "       u'Ice Age: Collision Course', u'Hot Tub Time Machine 2',\n",
       "       u'The Shining', u'Super Mario Bros.', u'Tarzan', u'Dirty Movie',\n",
       "       u'Son of the Mask', u'Kartoffelsalat', u'Nukie',\n",
       "       u'Battlefield Earth', u'Barb Wire',\n",
       "       u'Agent Cody Banks 2: Destination London', u'City of God',\n",
       "       u'Tank Girl', u'Ghostbusters II', u\"It's a Wonderful Life\",\n",
       "       u'BoBoiBoy: The Movie', u'Dracula 3000', u'Jaws: The Revenge',\n",
       "       u'Cabin Fever', u\"Jennifer's Body\", u'The Purge: Election Year',\n",
       "       u'Poltergeist', u'Range 15', u'The Lion King', u'Shrek',\n",
       "       u'Chicken Little', u'The Smurfs 2', u'Norm of the North', u'Doogal',\n",
       "       u'Titanic: The Legend Goes On...',\n",
       "       u'Justin Bieber: Never Say Never', u'The Legend of the Titanic',\n",
       "       u'Jonas Brothers: The 3D Concert Experience', u'The Godfather',\n",
       "       u'Aliens on the Moon: The Truth Exposed', u'The Workshop',\n",
       "       u'American Ghost Hunter', u'Hot Girls Wanted', u'Welcome to Leith',\n",
       "       u'Weiner', u'Game of Thrones: Season 2 - Character Profiles',\n",
       "       u'Louis Sullivan: the Struggle for American Architecture',\n",
       "       u'The Shawshank Redemption', u'The Godfather: Part II',\n",
       "       u\"Schindler's List\", u'Pulp Fiction',\n",
       "       u'The Lord of the Rings: The Return of the King',\n",
       "       u'The Good, the Bad and the Ugly',\n",
       "       u'The Lord of the Rings: The Fellowship of the Ring',\n",
       "       u'Forrest Gump', u'Star Wars: Episode V - The Empire Strikes Back',\n",
       "       u'Inception', u'The Lord of the Rings: The Two Towers',\n",
       "       u\"One Flew Over the Cuckoo's Nest\", u'Goodfellas', u'Seven Samurai',\n",
       "       u'Star Wars: Episode IV - A New Hope', u'Se7en',\n",
       "       u'The Silence of the Lambs', u'The Usual Suspects'], dtype=object)"
      ]
     },
     "execution_count": 60,
     "metadata": {},
     "output_type": "execute_result"
    }
   ],
   "source": [
    "# Below you can see the summary statistics for review and movie score.  You can also see each unique genre and each \n",
    "# unique movie title.\n",
    "\n",
    "print df.shape\n",
    "print df.describe()\n",
    "print pd.unique(df.genre.ravel())\n",
    "pd.unique(df.title.ravel())"
   ]
  },
  {
   "cell_type": "code",
   "execution_count": 61,
   "metadata": {
    "collapsed": false
   },
   "outputs": [
    {
     "data": {
      "text/html": [
       "<div>\n",
       "<table border=\"1\" class=\"dataframe\">\n",
       "  <thead>\n",
       "    <tr style=\"text-align: right;\">\n",
       "      <th></th>\n",
       "      <th>review_score</th>\n",
       "      <th>movie_score</th>\n",
       "    </tr>\n",
       "  </thead>\n",
       "  <tbody>\n",
       "    <tr>\n",
       "      <th>review_score</th>\n",
       "      <td>1.000000</td>\n",
       "      <td>0.609808</td>\n",
       "    </tr>\n",
       "    <tr>\n",
       "      <th>movie_score</th>\n",
       "      <td>0.609808</td>\n",
       "      <td>1.000000</td>\n",
       "    </tr>\n",
       "  </tbody>\n",
       "</table>\n",
       "</div>"
      ],
      "text/plain": [
       "              review_score  movie_score\n",
       "review_score      1.000000     0.609808\n",
       "movie_score       0.609808     1.000000"
      ]
     },
     "execution_count": 61,
     "metadata": {},
     "output_type": "execute_result"
    },
    {
     "data": {
      "image/png": "[encoded data removed]",
      "text/plain": [
       "<matplotlib.figure.Figure at 0x11e7bea50>"
      ]
     },
     "metadata": {},
     "output_type": "display_data"
    }
   ],
   "source": [
    "# Correlation table and histogram displaying distribution of review scores and movie scores.  \n",
    "df.review_score.hist()\n",
    "df.movie_score.hist()\n",
    "df.corr()"
   ]
  },
  {
   "cell_type": "raw",
   "metadata": {
    "collapsed": false
   },
   "source": [
    "There are a few null values (3) in summary_review and we are going to simply drop them.  We do not believe this will have any significant effect on our data.  The steps for dropping the null values are below."
   ]
  },
  {
   "cell_type": "code",
   "execution_count": 62,
   "metadata": {
    "collapsed": false
   },
   "outputs": [
    {
     "name": "stdout",
     "output_type": "stream",
     "text": [
      "title             0\n",
      "summary_review    3\n",
      "review_score      0\n",
      "movie_score       0\n",
      "genre             0\n",
      "dtype: int64\n"
     ]
    }
   ],
   "source": [
    "print df.isnull().sum()\n",
    "df = df.dropna()"
   ]
  },
  {
   "cell_type": "raw",
   "metadata": {
    "collapsed": true
   },
   "source": [
    "Now that we have our data set we are ready to begin the process of finding words or phrases from which we can derive some quantative values.  We found this to be an extraordinarily difficult task.  After many hours of data wrangling we were able to get some value from our data. Unfortunately, however, we were not able to get exactly what we wanted.\n",
    "\n",
    "Let's begin by a general explanation of our efforts.  We began this project using entire reviews instead of summary reviews.  This gave an exceptional amount of data--so much data, in fact, that it crashed our computers.  This process was painstakingly slow as we had to wait long periods of time while many of our steps were processing.  Eventually we abandoned the idea of using entire reviews and adopted a new strategy where we would only use review summaries, which are much, much shorter than reviews, let me assure you.  So...alas! We have our data set and we are now ready to vectorize the summary reviews into something we can work with--quantitative variables (we hope they will become our features, in fact).  \n",
    "\n",
    "This is where I experienced the bulk of my problems with this project.  You can see from the hashed-out code below that we attempted to apply methods for lemmatizing and stemming our data before using any of sklearn Vectorizers.  It didn't really work the way we'd hoped and we ended up with a lot of words but nothing we were able to really work with in the end.  Next we tried using a regular expression to clean the summary reviews of all the nasty imperfections it contained.  This sort of worked but we still had a lot of garbage we didn't want.  We were never able to manipulate our data into a short, manageable list of words.  Eventually we settled on simply putting our summary reviews into CountVectorizer.  Some of the problems we encountered included not being able to get 'stop_words' to work and trouble with the regular expression used in the parameter 'token_pattern'.  Eventually we settled on setting the max_features to 20 and using an ngram_range of (4,4).  By doing this we were able to get some short phrases that seemed to have some value in predicting a movie's score based by it's review content.  \n",
    "\n",
    "The next several lines of code will show how we set our target variable, movie score, and our feature variables.  Below you also see how we used the CountVectorizer.  First we instantiated the vectorizer, then we fit and transformed the summary reviews and finally we changed it from a sparse matrix to a dense matrix.  Following those steps we split our data down the middle into a training and test set.  "
   ]
  },
  {
   "cell_type": "code",
   "execution_count": 63,
   "metadata": {
    "collapsed": false,
    "scrolled": true
   },
   "outputs": [],
   "source": [
    "# # function that returns each word in a string as its lemma\n",
    "# def lemmatize(string):\n",
    "#     parsed = parser(unicode(string))\n",
    "#     lemmas = []\n",
    "#     for token in parsed:\n",
    "#         if token != None and token != \"'\":\n",
    "#             lemmas.append(token.lemma_)\n",
    "#     return lemmas\n",
    "# def cleaner(string):\n",
    "#     parsed = parser(unicode(string))\n",
    "#     lemmas_unicode = [token.lemma_ for token in parsed]\n",
    "#     lemmas_string = [unicodedata.normalize('NFKD', i).encode('utf-8') for i in lemmas_unicode]\n",
    "#     lstring = ''\n",
    "#     for i in lemmas_string:\n",
    "#         if i not in  ['\\n\\n', '!','?','.',',','[0-9]+','[)()-\\'/]']:\n",
    "#             lstring += i\n",
    "#             lstring += ' '\n",
    "#     return lstring\n",
    "# pars = re.compile(r'(\\w+[A-Z,?\\'a-z][^0-9,\\\\])')"
   ]
  },
  {
   "cell_type": "code",
   "execution_count": 64,
   "metadata": {
    "collapsed": true
   },
   "outputs": [],
   "source": [
    "def review_to_words( raw_review ):\n",
    "    # Function to convert a raw review to a string of words\n",
    "    # The input is a single string (a raw movie review), and \n",
    "    # the output is a single string (a preprocessed movie review)\n",
    "    #\n",
    "    # 1. Remove HTML\n",
    "    review_text = BeautifulSoup(raw_review).get_text() \n",
    "    #\n",
    "    # 2. Remove non-letters        \n",
    "    letters_only = re.sub(\"[^a-zA-Z]\", \" \", review_text) \n",
    "    #\n",
    "    # 3. Convert to lower case, split into individual words\n",
    "    words = letters_only.lower().split()                             \n",
    "    #\n",
    "    # 4. In Python, searching a set is much faster than searching\n",
    "    #   a list, so convert the stop words to a set\n",
    "    stops = set(stopwords.words(\"english\"))                  \n",
    "    # \n",
    "    # 5. Remove stop words\n",
    "    meaningful_words = [w for w in words if not w in stops]   \n",
    "    #\n",
    "    # 6. Join the words back into one string separated by space, \n",
    "    # and return the result.\n",
    "    return( \" \".join( meaningful_words ))   "
   ]
  },
  {
   "cell_type": "code",
   "execution_count": 65,
   "metadata": {
    "collapsed": false,
    "scrolled": true
   },
   "outputs": [],
   "source": [
    "X = df['summary_review']\n",
    "y = df['movie_score']"
   ]
  },
  {
   "cell_type": "code",
   "execution_count": 66,
   "metadata": {
    "collapsed": false
   },
   "outputs": [],
   "source": [
    "cvec = CountVectorizer(stop_words = ['of the', 'it', 'and', 'be', 'a'], ngram_range = (4,4), max_features = 30, token_pattern = r\"[^0-9\\]['u]\\w+\", analyzer = 'word')\n",
    "X = cvec.fit_transform(X).todense()"
   ]
  },
  {
   "cell_type": "code",
   "execution_count": 67,
   "metadata": {
    "collapsed": false
   },
   "outputs": [],
   "source": [
    "X_train, X_test, y_train, y_test = train_test_split(X, y, test_size = .50, random_state = 1)\n",
    "columns = cvec.get_feature_names()"
   ]
  },
  {
   "cell_type": "code",
   "execution_count": 68,
   "metadata": {
    "collapsed": false
   },
   "outputs": [
    {
     "name": "stdout",
     "output_type": "stream",
     "text": [
      "[[0 0 0 ..., 0 0 0]\n",
      " [0 0 0 ..., 0 0 0]\n",
      " [0 0 0 ..., 0 0 0]\n",
      " ..., \n",
      " [0 0 0 ..., 0 0 0]\n",
      " [0 0 0 ..., 0 0 0]\n",
      " [0 0 0 ..., 0 0 0]]\n"
     ]
    },
    {
     "data": {
      "text/plain": [
       "[u' as  good  as  the',\n",
       " u' bad  movie  i  have',\n",
       " u' be  one  of  the',\n",
       " u' best  film  ever  make',\n",
       " u' best  movie  ever  make',\n",
       " u' best  movie  i  have',\n",
       " u' best  movie  of  all',\n",
       " u' film  i  have  ever',\n",
       " u' film  of  all  time',\n",
       " u' good  as  the  first',\n",
       " u' i  have  ever  see',\n",
       " u' lord  of  the  ring',\n",
       " u' movie  i  have  ever',\n",
       " u' movie  i  have  see',\n",
       " u' movie  of  all  time',\n",
       " u' of  the  best  film',\n",
       " u' of  the  best  movie',\n",
       " u' of  the  great  film',\n",
       " u' one  of  the  best',\n",
       " u' one  of  the  great',\n",
       " u' the  best  film  ever',\n",
       " u' the  best  film  of',\n",
       " u' the  best  movie  ever',\n",
       " u' the  best  movie  of',\n",
       " u'not  as  good  as',\n",
       " u'one  of  the  bad',\n",
       " u'one  of  the  best',\n",
       " u'one  of  the  great',\n",
       " u'one  of  the  most',\n",
       " u'the  best  movie  ever']"
      ]
     },
     "execution_count": 68,
     "metadata": {},
     "output_type": "execute_result"
    }
   ],
   "source": [
    "print X_train\n",
    "cvec.get_feature_names()"
   ]
  },
  {
   "cell_type": "raw",
   "metadata": {},
   "source": [
    "So now we can see (just above) that our training data is a matrix (you can also see the list of words that we are using as our features).  We tried selecting features using varous methods of tree regressors.  We beging by using a simple Decision Tree Regressor, followed by ADABoost Regressor and finally we used the Gradient Boosting Regressor.  We evaluate these models by the mean square error.  We can see that all of the models have a similar score.  In this case it looks like the Decision Tree Regressor is giving us the best score and therefore better splits of our variables.  Moving forward we would want to take these features that we have found to be valuable and use them in predicting movie scores.  Having problems with our features made it difficult to really use the concepts we learned this week.  "
   ]
  },
  {
   "cell_type": "markdown",
   "metadata": {},
   "source": [
    "# <center>Decision Tree Regressor Feature Selection"
   ]
  },
  {
   "cell_type": "code",
   "execution_count": 69,
   "metadata": {
    "collapsed": false
   },
   "outputs": [],
   "source": [
    "dtreg = DecisionTreeRegressor()\n",
    "dtreg_f = dtreg.fit(X_train, y_train)\n",
    "y_pred = dtreg.predict(X_test)"
   ]
  },
  {
   "cell_type": "code",
   "execution_count": 70,
   "metadata": {
    "collapsed": false
   },
   "outputs": [
    {
     "name": "stdout",
     "output_type": "stream",
     "text": [
      "MSE: 6.3099\n"
     ]
    },
    {
     "data": {
      "image/png": "[encoded data removed]",
      "text/plain": [
       "<matplotlib.figure.Figure at 0x11f542d10>"
      ]
     },
     "metadata": {},
     "output_type": "display_data"
    }
   ],
   "source": [
    "# Feature importance relative to max importance using Decision Tree Regressor\n",
    "\n",
    "mse_dtreg = mean_squared_error(y_test, dtreg.predict(X_test))\n",
    "print(\"MSE: %.4f\" % mse_dtreg)\n",
    "feature_importance = dtreg.feature_importances_\n",
    "feature_importance = 100.0 * (feature_importance / feature_importance.max())\n",
    "sorted_idx = np.argsort(feature_importance)\n",
    "pos = np.arange(sorted_idx.shape[0]) + .5\n",
    "plt.subplot(1, 2, 2)\n",
    "plt.barh(pos, feature_importance[sorted_idx], align='center')\n",
    "plt.xlabel('Relative Importance')\n",
    "plt.yticks(pos, columns)\n",
    "plt.Text(cvec.get_feature_names())\n",
    "plt.title('Variable Importance')\n",
    "plt.Figure(figsize = (7, 9))\n",
    "plt.show()"
   ]
  },
  {
   "cell_type": "code",
   "execution_count": 71,
   "metadata": {
    "collapsed": false
   },
   "outputs": [
    {
     "data": {
      "text/html": [
       "<div>\n",
       "<table border=\"1\" class=\"dataframe\">\n",
       "  <thead>\n",
       "    <tr style=\"text-align: right;\">\n",
       "      <th></th>\n",
       "      <th>feature</th>\n",
       "      <th>feature_score</th>\n",
       "    </tr>\n",
       "  </thead>\n",
       "  <tbody>\n",
       "    <tr>\n",
       "      <th>26</th>\n",
       "      <td>one  of  the  best</td>\n",
       "      <td>0.176179</td>\n",
       "    </tr>\n",
       "    <tr>\n",
       "      <th>25</th>\n",
       "      <td>one  of  the  bad</td>\n",
       "      <td>0.107457</td>\n",
       "    </tr>\n",
       "    <tr>\n",
       "      <th>1</th>\n",
       "      <td>bad  movie  i  have</td>\n",
       "      <td>0.069884</td>\n",
       "    </tr>\n",
       "    <tr>\n",
       "      <th>27</th>\n",
       "      <td>one  of  the  great</td>\n",
       "      <td>0.067469</td>\n",
       "    </tr>\n",
       "    <tr>\n",
       "      <th>28</th>\n",
       "      <td>one  of  the  most</td>\n",
       "      <td>0.060129</td>\n",
       "    </tr>\n",
       "  </tbody>\n",
       "</table>\n",
       "</div>"
      ],
      "text/plain": [
       "                 feature  feature_score\n",
       "26    one  of  the  best       0.176179\n",
       "25     one  of  the  bad       0.107457\n",
       "1    bad  movie  i  have       0.069884\n",
       "27   one  of  the  great       0.067469\n",
       "28    one  of  the  most       0.060129"
      ]
     },
     "execution_count": 71,
     "metadata": {},
     "output_type": "execute_result"
    }
   ],
   "source": [
    "# Feature Importance using Decision Tree Regressor \n",
    "\n",
    "cols = ['feature']\n",
    "fi_score = dtreg.feature_importances_\n",
    "fi = cvec.get_feature_names()\n",
    "importance = pd.DataFrame(fi, columns = cols)\n",
    "importance['feature_score'] = fi_score\n",
    "importance.sort_values('feature_score', ascending = False).head()"
   ]
  },
  {
   "cell_type": "markdown",
   "metadata": {},
   "source": [
    "#  <center>ADABoost Regressor Feature Selection"
   ]
  },
  {
   "cell_type": "code",
   "execution_count": 72,
   "metadata": {
    "collapsed": false
   },
   "outputs": [],
   "source": [
    "# Feature Importance using ADABoost Regressor.\n",
    "ada = AdaBoostRegressor(DecisionTreeRegressor(max_depth=4),\n",
    "                          n_estimators=300, random_state=1)\n",
    "ada.fit(X_train, y_train)\n",
    "y_pred2 = ada.predict(X_test)"
   ]
  },
  {
   "cell_type": "code",
   "execution_count": 73,
   "metadata": {
    "collapsed": false
   },
   "outputs": [
    {
     "name": "stdout",
     "output_type": "stream",
     "text": [
      "MSE: 6.2597\n"
     ]
    },
    {
     "data": {
      "image/png": "[encoded data removed]",
      "text/plain": [
       "<matplotlib.figure.Figure at 0x11d955510>"
      ]
     },
     "metadata": {},
     "output_type": "display_data"
    }
   ],
   "source": [
    "# Feature importance relative to max importance using ADABoost Regressor\n",
    "\n",
    "mse_ada = mean_squared_error(y_test, ada.predict(X_test))\n",
    "print(\"MSE: %.4f\" % mse_ada)\n",
    "feature_importance = ada.feature_importances_\n",
    "feature_importance = 100.0 * (feature_importance / feature_importance.max())\n",
    "sorted_idx = np.argsort(feature_importance)\n",
    "pos = np.arange(sorted_idx.shape[0]) + .5\n",
    "plt.subplot(1, 2, 2)\n",
    "plt.barh(pos, feature_importance[sorted_idx], align='center')\n",
    "plt.xlabel('Relative Importance')\n",
    "plt.yticks(pos, columns)\n",
    "plt.Text(cvec.get_feature_names())\n",
    "plt.title('Variable Importance')\n",
    "plt.Figure(figsize = (7, 9))\n",
    "plt.show()"
   ]
  },
  {
   "cell_type": "code",
   "execution_count": 74,
   "metadata": {
    "collapsed": false,
    "scrolled": true
   },
   "outputs": [
    {
     "data": {
      "text/html": [
       "<div>\n",
       "<table border=\"1\" class=\"dataframe\">\n",
       "  <thead>\n",
       "    <tr style=\"text-align: right;\">\n",
       "      <th></th>\n",
       "      <th>feature</th>\n",
       "      <th>feature_score</th>\n",
       "    </tr>\n",
       "  </thead>\n",
       "  <tbody>\n",
       "    <tr>\n",
       "      <th>26</th>\n",
       "      <td>one  of  the  best</td>\n",
       "      <td>0.418172</td>\n",
       "    </tr>\n",
       "    <tr>\n",
       "      <th>18</th>\n",
       "      <td>one  of  the  best</td>\n",
       "      <td>0.111766</td>\n",
       "    </tr>\n",
       "    <tr>\n",
       "      <th>8</th>\n",
       "      <td>film  of  all  time</td>\n",
       "      <td>0.107342</td>\n",
       "    </tr>\n",
       "    <tr>\n",
       "      <th>25</th>\n",
       "      <td>one  of  the  bad</td>\n",
       "      <td>0.099211</td>\n",
       "    </tr>\n",
       "    <tr>\n",
       "      <th>12</th>\n",
       "      <td>movie  i  have  ever</td>\n",
       "      <td>0.080784</td>\n",
       "    </tr>\n",
       "  </tbody>\n",
       "</table>\n",
       "</div>"
      ],
      "text/plain": [
       "                  feature  feature_score\n",
       "26     one  of  the  best       0.418172\n",
       "18     one  of  the  best       0.111766\n",
       "8     film  of  all  time       0.107342\n",
       "25      one  of  the  bad       0.099211\n",
       "12   movie  i  have  ever       0.080784"
      ]
     },
     "execution_count": 74,
     "metadata": {},
     "output_type": "execute_result"
    }
   ],
   "source": [
    "cols = ['feature']\n",
    "fi_score = ada.feature_importances_\n",
    "fi = cvec.get_feature_names()\n",
    "importance = pd.DataFrame(fi, columns = cols)\n",
    "importance['feature_score'] = fi_score\n",
    "importance.sort_values('feature_score', ascending = False).head()"
   ]
  },
  {
   "cell_type": "markdown",
   "metadata": {},
   "source": [
    "# <center>Gradient Boosting Regressor Feature Selection</center>"
   ]
  },
  {
   "cell_type": "code",
   "execution_count": 75,
   "metadata": {
    "collapsed": false
   },
   "outputs": [],
   "source": [
    "clf = GradientBoostingRegressor(loss = 'ls', n_estimators = 300, min_samples_split = 2, max_depth = 4)\n",
    "clf.fit(X_train, y_train)\n",
    "y_preda = clf.predict(X_test)"
   ]
  },
  {
   "cell_type": "code",
   "execution_count": 76,
   "metadata": {
    "collapsed": false,
    "scrolled": true
   },
   "outputs": [
    {
     "name": "stdout",
     "output_type": "stream",
     "text": [
      "MSE: 6.2916\n"
     ]
    },
    {
     "data": {
      "image/png": "[encoded data removed]",
      "text/plain": [
       "<matplotlib.figure.Figure at 0x11f0aef50>"
      ]
     },
     "metadata": {},
     "output_type": "display_data"
    }
   ],
   "source": [
    "# Feature importance using Gradient Boosting Regressor\n",
    "\n",
    "mse_clf = mean_squared_error(y_test, clf.predict(X_test))\n",
    "print(\"MSE: %.4f\" % mse_clf)\n",
    "feature_importance = clf.feature_importances_\n",
    "feature_importance = 100.0 * (feature_importance / feature_importance.max())\n",
    "sorted_idx = np.argsort(feature_importance)\n",
    "pos = np.arange(sorted_idx.shape[0]) + .5\n",
    "plt.subplot(1, 2, 2)\n",
    "plt.barh(pos, feature_importance[sorted_idx], align='center')\n",
    "plt.xlabel('Relative Importance')\n",
    "plt.yticks(pos, columns)\n",
    "plt.Text(cvec.get_feature_names())\n",
    "plt.title('Variable Importance')\n",
    "plt.Figure(figsize = (7, 9))\n",
    "plt.show()"
   ]
  },
  {
   "cell_type": "code",
   "execution_count": 24,
   "metadata": {
    "collapsed": false
   },
   "outputs": [
    {
     "data": {
      "text/html": [
       "<div>\n",
       "<table border=\"1\" class=\"dataframe\">\n",
       "  <thead>\n",
       "    <tr style=\"text-align: right;\">\n",
       "      <th></th>\n",
       "      <th>feature</th>\n",
       "      <th>feature_score</th>\n",
       "    </tr>\n",
       "  </thead>\n",
       "  <tbody>\n",
       "    <tr>\n",
       "      <th>6</th>\n",
       "      <td>i  have  ever  see</td>\n",
       "      <td>0.139783</td>\n",
       "    </tr>\n",
       "    <tr>\n",
       "      <th>18</th>\n",
       "      <td>one  of  the  most</td>\n",
       "      <td>0.121262</td>\n",
       "    </tr>\n",
       "    <tr>\n",
       "      <th>17</th>\n",
       "      <td>one  of  the  great</td>\n",
       "      <td>0.095892</td>\n",
       "    </tr>\n",
       "    <tr>\n",
       "      <th>10</th>\n",
       "      <td>of  the  best  movie</td>\n",
       "      <td>0.085887</td>\n",
       "    </tr>\n",
       "    <tr>\n",
       "      <th>0</th>\n",
       "      <td>as  good  as  the</td>\n",
       "      <td>0.079574</td>\n",
       "    </tr>\n",
       "  </tbody>\n",
       "</table>\n",
       "</div>"
      ],
      "text/plain": [
       "                  feature  feature_score\n",
       "6      i  have  ever  see       0.139783\n",
       "18     one  of  the  most       0.121262\n",
       "17    one  of  the  great       0.095892\n",
       "10   of  the  best  movie       0.085887\n",
       "0       as  good  as  the       0.079574"
      ]
     },
     "execution_count": 24,
     "metadata": {},
     "output_type": "execute_result"
    }
   ],
   "source": [
    "cols = ['feature']\n",
    "fi_score = clf.feature_importances_\n",
    "fi = cvec.get_feature_names()\n",
    "importance = pd.DataFrame(fi, columns = cols)\n",
    "importance['feature_score'] = fi_score\n",
    "importance.sort_values('feature_score', ascending = False).head()"
   ]
  },
  {
   "cell_type": "code",
   "execution_count": 57,
   "metadata": {
    "collapsed": false
   },
   "outputs": [
    {
     "ename": "NameError",
     "evalue": "global name 'dot_parser' is not defined",
     "output_type": "error",
     "traceback": [
      "\u001b[0;31m---------------------------------------------------------------------------\u001b[0m",
      "\u001b[0;31mNameError\u001b[0m                                 Traceback (most recent call last)",
      "\u001b[0;32m<ipython-input-57-9a4dfa1639a4>\u001b[0m in \u001b[0;36m<module>\u001b[0;34m()\u001b[0m\n\u001b[1;32m      7\u001b[0m export_graphviz(dtreg, out_file='tree.dot',  \n\u001b[1;32m      8\u001b[0m                          feature_names=columns, filled=True, rounded=True, special_characters=True)  \n\u001b[0;32m----> 9\u001b[0;31m \u001b[0mgraph\u001b[0m \u001b[0;34m=\u001b[0m \u001b[0mpydot\u001b[0m\u001b[0;34m.\u001b[0m\u001b[0mgraph_from_dot_data\u001b[0m\u001b[0;34m(\u001b[0m\u001b[0mdot_data\u001b[0m\u001b[0;34m.\u001b[0m\u001b[0mgetvalue\u001b[0m\u001b[0;34m(\u001b[0m\u001b[0;34m)\u001b[0m\u001b[0;34m)\u001b[0m\u001b[0;34m\u001b[0m\u001b[0m\n\u001b[0m\u001b[1;32m     10\u001b[0m \u001b[0mImage\u001b[0m\u001b[0;34m(\u001b[0m\u001b[0mgraph\u001b[0m\u001b[0;34m.\u001b[0m\u001b[0mcreate_png\u001b[0m\u001b[0;34m(\u001b[0m\u001b[0;34m)\u001b[0m\u001b[0;34m)\u001b[0m\u001b[0;34m\u001b[0m\u001b[0m\n",
      "\u001b[0;32m/Users/smoot/anaconda/lib/python2.7/site-packages/pydot.pyc\u001b[0m in \u001b[0;36mgraph_from_dot_data\u001b[0;34m(data)\u001b[0m\n\u001b[1;32m    218\u001b[0m     \"\"\"\n\u001b[1;32m    219\u001b[0m \u001b[0;34m\u001b[0m\u001b[0m\n\u001b[0;32m--> 220\u001b[0;31m     \u001b[0;32mreturn\u001b[0m \u001b[0mdot_parser\u001b[0m\u001b[0;34m.\u001b[0m\u001b[0mparse_dot_data\u001b[0m\u001b[0;34m(\u001b[0m\u001b[0mdata\u001b[0m\u001b[0;34m)\u001b[0m\u001b[0;34m\u001b[0m\u001b[0m\n\u001b[0m\u001b[1;32m    221\u001b[0m \u001b[0;34m\u001b[0m\u001b[0m\n\u001b[1;32m    222\u001b[0m \u001b[0;34m\u001b[0m\u001b[0m\n",
      "\u001b[0;31mNameError\u001b[0m: global name 'dot_parser' is not defined"
     ]
    }
   ],
   "source": [
    "# I used to be able to visualize decision trees but I've messed it up now and it isn't working.  So that is really too \n",
    "# bad.\n",
    "\n",
    "from IPython.display import Image\n",
    "from sklearn import tree\n",
    "dot_data = StringIO()  \n",
    "export_graphviz(dtreg, out_file='tree.dot',  \n",
    "                         feature_names=columns, filled=True, rounded=True, special_characters=True)  \n",
    "graph = pydot.graph_from_dot_data(dot_data.getvalue())  \n",
    "Image(graph.create_png())  "
   ]
  },
  {
   "cell_type": "code",
   "execution_count": null,
   "metadata": {
    "collapsed": true
   },
   "outputs": [],
   "source": []
  },
  {
   "cell_type": "code",
   "execution_count": null,
   "metadata": {
    "collapsed": true
   },
   "outputs": [],
   "source": []
  },
  {
   "cell_type": "code",
   "execution_count": null,
   "metadata": {
    "collapsed": true
   },
   "outputs": [],
   "source": []
  }
 ],
 "metadata": {
  "anaconda-cloud": {},
  "kernelspec": {
   "display_name": "Python [default]",
   "language": "python",
   "name": "python2"
  },
  "language_info": {
   "codemirror_mode": {
    "name": "ipython",
    "version": 2
   },
   "file_extension": ".py",
   "mimetype": "text/x-python",
   "name": "python",
   "nbconvert_exporter": "python",
   "pygments_lexer": "ipython2",
   "version": "2.7.12"
  }
 },
 "nbformat": 4,
 "nbformat_minor": 0
}
