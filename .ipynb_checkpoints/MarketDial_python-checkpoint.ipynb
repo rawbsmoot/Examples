{
 "cells": [
  {
   "cell_type": "markdown",
   "metadata": {},
   "source": [
    "# <center>MarketDial Coding Challenge </center>"
   ]
  },
  {
   "cell_type": "raw",
   "metadata": {},
   "source": [
    "What I'd like you to do is to write a Python program to select an \"optimal sample\". The way we think about an optimal sample is for a given sample size (e.g., 20 stores, 21, 22, etc.), selecting an optimally proportional amount of sample stores to the amount of population stores. A simplified example:\n",
    "\n",
    "If you had 100 total stores that fell into 4 clusters like this...\n",
    "\n",
    "        cluster_id                   store_count\n",
    "            1                            25   \n",
    "            2                            25\n",
    "            3                            10\n",
    "            4                            40\n",
    "            \n",
    "            \n",
    "(i.e., 25 stores are in cluster 1, etc.)\n",
    "\n",
    "...then if you were picking a sample of 20 stores, you pick five in cluster 1, five in cluster 2, two in cluster 3, and eight in cluster 4 because that would be proportionally the sample as the count of sample stores across the cluster groups.\n",
    "\n",
    "Also, the metric we have used to compare similar proportions for two vectors is cosine similarity, so if you took the cosine similarity of vector1=[25,25,10,40] and vector2=[5,5,2,8] you would get a value of 1.0, which is optimal (cosine similarity is a value between 0 and 1, with 1 being the most similar).\n",
    "\n",
    "Also note that once you get the right proportions of stores to select from each cluster we typically take a random sample of the stores in the cluster (i.e., in the example above, I would take a random sample of 5 stores from the 25 stores that are in cluster 1)."
   ]
  },
  {
   "cell_type": "code",
   "execution_count": 200,
   "metadata": {
    "collapsed": false
   },
   "outputs": [
    {
     "data": {
      "text/html": [
       "<div>\n",
       "<table border=\"1\" class=\"dataframe\">\n",
       "  <thead>\n",
       "    <tr style=\"text-align: right;\">\n",
       "      <th></th>\n",
       "      <th>StoreId</th>\n",
       "      <th>ClusterId</th>\n",
       "    </tr>\n",
       "  </thead>\n",
       "  <tbody>\n",
       "    <tr>\n",
       "      <th>0</th>\n",
       "      <td>864</td>\n",
       "      <td>29</td>\n",
       "    </tr>\n",
       "    <tr>\n",
       "      <th>1</th>\n",
       "      <td>865</td>\n",
       "      <td>46</td>\n",
       "    </tr>\n",
       "    <tr>\n",
       "      <th>2</th>\n",
       "      <td>880</td>\n",
       "      <td>33</td>\n",
       "    </tr>\n",
       "    <tr>\n",
       "      <th>3</th>\n",
       "      <td>891</td>\n",
       "      <td>53</td>\n",
       "    </tr>\n",
       "    <tr>\n",
       "      <th>4</th>\n",
       "      <td>893</td>\n",
       "      <td>45</td>\n",
       "    </tr>\n",
       "  </tbody>\n",
       "</table>\n",
       "</div>"
      ],
      "text/plain": [
       "   StoreId  ClusterId\n",
       "0      864         29\n",
       "1      865         46\n",
       "2      880         33\n",
       "3      891         53\n",
       "4      893         45"
      ]
     },
     "execution_count": 200,
     "metadata": {},
     "output_type": "execute_result"
    }
   ],
   "source": [
    "# inspecting file\n",
    "\n",
    "df = pd.read_csv('/Users/robbiesmoot/Downloads/store_cluster_assignments.csv')\n",
    "df.head()"
   ]
  },
  {
   "cell_type": "code",
   "execution_count": 201,
   "metadata": {
    "collapsed": false
   },
   "outputs": [],
   "source": [
    "# function to find sample size and cosine similarity score.  \n",
    "# I am assuming 'ClusterId' is the number of stores in the cluster.\n",
    "\n",
    "import pandas as pd\n",
    "from sklearn.metrics.pairwise import cosine_similarity\n",
    "data_path = '/Users/robbiesmoot/Downloads/store_cluster_assignments.csv'\n",
    "\n",
    "\n",
    "# takes two arguments: how many stores you want to look at from the total store population and how many samples \n",
    "# **note**  **sample must be a float.  If it is an int it won't work and I am not sure why.**\n",
    "\n",
    "def sampler(store_sample_size, sample):\n",
    "    # read in csv file and randomly select desired number of stores from all stores in the data file.\n",
    "\n",
    "    df = pd.read_csv(data_path, index_col='StoreId')\n",
    "    stores = df.sample(n=store_sample_size, random_state=3)\n",
    "    \n",
    "    # find the proportion of stores to sample from the randomly selected stores\n",
    "    total_stores = sum(stores['ClusterId'])\n",
    "    stores['proportional_sample']= [round((sample/total_stores) * i, 0) for i in stores['ClusterId']]\n",
    "    print stores\n",
    "    cos_similarity = cosine_similarity(stores['ClusterId'], stores['proportional_sample'])\n",
    "    print 'cosin similarity score =', cos_similarity"
   ]
  },
  {
   "cell_type": "code",
   "execution_count": 202,
   "metadata": {
    "collapsed": false
   },
   "outputs": [
    {
     "name": "stdout",
     "output_type": "stream",
     "text": [
      "         ClusterId  proportional_sample\n",
      "StoreId                                \n",
      "922             45                  3.0\n",
      "1093            15                  1.0\n",
      "1083            39                  3.0\n",
      "903             45                  3.0\n",
      "993             26                  2.0\n",
      "1091            59                  4.0\n",
      "1082             7                  0.0\n",
      "1158            28                  2.0\n",
      "966             25                  2.0\n",
      "1104            12                  1.0\n",
      "1075            35                  2.0\n",
      "1019            31                  2.0\n",
      "962             45                  3.0\n",
      "1152            44                  3.0\n",
      "cosin similarity score = [[ 0.99576546]]\n"
     ]
    },
    {
     "name": "stderr",
     "output_type": "stream",
     "text": [
      "/anaconda/lib/python2.7/site-packages/sklearn/utils/validation.py:395: DeprecationWarning: Passing 1d arrays as data is deprecated in 0.17 and will raise ValueError in 0.19. Reshape your data either using X.reshape(-1, 1) if your data has a single feature or X.reshape(1, -1) if it contains a single sample.\n",
      "  DeprecationWarning)\n",
      "/anaconda/lib/python2.7/site-packages/sklearn/utils/validation.py:395: DeprecationWarning: Passing 1d arrays as data is deprecated in 0.17 and will raise ValueError in 0.19. Reshape your data either using X.reshape(-1, 1) if your data has a single feature or X.reshape(1, -1) if it contains a single sample.\n",
      "  DeprecationWarning)\n"
     ]
    }
   ],
   "source": [
    "sampler(14, 32.0)"
   ]
  },
  {
   "cell_type": "code",
   "execution_count": null,
   "metadata": {
    "collapsed": true
   },
   "outputs": [],
   "source": []
  }
 ],
 "metadata": {
  "kernelspec": {
   "display_name": "Python 2",
   "language": "python",
   "name": "python2"
  },
  "language_info": {
   "codemirror_mode": {
    "name": "ipython",
    "version": 2
   },
   "file_extension": ".py",
   "mimetype": "text/x-python",
   "name": "python",
   "nbconvert_exporter": "python",
   "pygments_lexer": "ipython2",
   "version": "2.7.13"
  }
 },
 "nbformat": 4,
 "nbformat_minor": 2
}
